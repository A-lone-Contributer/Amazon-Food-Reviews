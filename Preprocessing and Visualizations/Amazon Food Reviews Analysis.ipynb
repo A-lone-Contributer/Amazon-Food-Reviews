{
 "cells": [
  {
   "cell_type": "markdown",
   "metadata": {},
   "source": [
    "# Amazon Fine Food Reviews Analysis\n",
    "\n",
    "\n",
    "Data Source: https://www.kaggle.com/snap/amazon-fine-food-reviews <br>\n",
    "\n",
    "EDA: https://nycdatascience.com/blog/student-works/amazon-fine-foods-visualization/\n",
    "\n",
    "\n",
    "The Amazon Fine Food Reviews dataset consists of reviews of fine foods from Amazon.<br>\n",
    "\n",
    "Number of reviews: 568,454<br>\n",
    "Number of users: 256,059<br>\n",
    "Number of products: 74,258<br>\n",
    "Timespan: Oct 1999 - Oct 2012<br>\n",
    "Number of Attributes/Columns in data: 10 \n",
    "\n",
    "Attribute Information:\n",
    "\n",
    "1. Id\n",
    "2. ProductId - unique identifier for the product\n",
    "3. UserId - unqiue identifier for the user\n",
    "4. ProfileName\n",
    "5. HelpfulnessNumerator - number of users who found the review helpful (Postive reviews)\n",
    "6. HelpfulnessDenominator - number of users who indicated whether they found the review helpful or not (positive+negative)\n",
    "7. Score - rating between 1 and 5\n",
    "8. Time - timestamp for the review (UNIX)\n",
    "9. Summary - brief summary of the review\n",
    "10. Text - text of the review\n",
    "\n",
    "\n",
    "#### Objective:\n",
    "Given a review, determine whether the review is positive (Rating of 4 or 5) or negative (rating of 1 or 2).\n",
    "\n",
    "<br>\n",
    "[Q] How to determine if a review is positive or negative?<br>\n",
    "<br> \n",
    "[Ans] We could use the Score/Rating. A rating of 4 or 5 could be cosnidered a positive review. A review of 1 or 2 could be considered negative. A review of 3 is nuetral and ignored. This is an approximate and proxy way of determining the polarity (positivity/negativity) of a review.\n",
    "\n"
   ]
  },
  {
   "cell_type": "markdown",
   "metadata": {},
   "source": [
    "# [Starting Up....]"
   ]
  },
  {
   "cell_type": "markdown",
   "metadata": {},
   "source": [
    "# Importing Libraries"
   ]
  },
  {
   "cell_type": "code",
   "execution_count": 1,
   "metadata": {},
   "outputs": [],
   "source": [
    "%matplotlib inline\n",
    "import warnings\n",
    "warnings.filterwarnings(\"ignore\")\n",
    "\n",
    "\n",
    "import sqlite3\n",
    "import pandas as pd\n",
    "import numpy as np\n",
    "import nltk\n",
    "import string\n",
    "import matplotlib.pyplot as plt\n",
    "import seaborn as sns"
   ]
  },
  {
   "cell_type": "code",
   "execution_count": 2,
   "metadata": {},
   "outputs": [],
   "source": [
    "# using Sqlite table to read data\n",
    "\n",
    "con = sqlite3.connect('./Downloads/DATASETS/Amazon food review\\database.sqlite')"
   ]
  },
  {
   "cell_type": "code",
   "execution_count": 3,
   "metadata": {},
   "outputs": [],
   "source": [
    "# reading only postive and negative reviews i.e not\n",
    "# taking into account those revoews with score=3\n",
    "\n",
    "filtered_data = pd.read_sql_query(\"\"\"\n",
    "SELECT * \n",
    "FROM Reviews\n",
    "WHERE Score!=3\n",
    "\"\"\", con)"
   ]
  },
  {
   "cell_type": "code",
   "execution_count": 4,
   "metadata": {},
   "outputs": [],
   "source": [
    "# Give reviews with Score>3 a postive rating and reviews with a score<3\n",
    "# a negative rating \n",
    "\n",
    "def partition(x):\n",
    "    if x<3:\n",
    "        return 'negative'\n",
    "    return 'positive'\n",
    "\n",
    "# changing the values with score less than 3 to positive and vice-versa\n",
    "actualScore = filtered_data['Score']\n",
    "positiveNegative = actualScore.map(partition)\n",
    "filtered_data['Score'] = positiveNegative"
   ]
  },
  {
   "cell_type": "code",
   "execution_count": 5,
   "metadata": {},
   "outputs": [
    {
     "data": {
      "text/plain": [
       "(525814, 10)"
      ]
     },
     "execution_count": 5,
     "metadata": {},
     "output_type": "execute_result"
    }
   ],
   "source": [
    "filtered_data.shape "
   ]
  },
  {
   "cell_type": "code",
   "execution_count": 6,
   "metadata": {},
   "outputs": [
    {
     "data": {
      "text/html": [
       "<div>\n",
       "<style scoped>\n",
       "    .dataframe tbody tr th:only-of-type {\n",
       "        vertical-align: middle;\n",
       "    }\n",
       "\n",
       "    .dataframe tbody tr th {\n",
       "        vertical-align: top;\n",
       "    }\n",
       "\n",
       "    .dataframe thead th {\n",
       "        text-align: right;\n",
       "    }\n",
       "</style>\n",
       "<table border=\"1\" class=\"dataframe\">\n",
       "  <thead>\n",
       "    <tr style=\"text-align: right;\">\n",
       "      <th></th>\n",
       "      <th>Id</th>\n",
       "      <th>ProductId</th>\n",
       "      <th>UserId</th>\n",
       "      <th>ProfileName</th>\n",
       "      <th>HelpfulnessNumerator</th>\n",
       "      <th>HelpfulnessDenominator</th>\n",
       "      <th>Score</th>\n",
       "      <th>Time</th>\n",
       "      <th>Summary</th>\n",
       "      <th>Text</th>\n",
       "    </tr>\n",
       "  </thead>\n",
       "  <tbody>\n",
       "    <tr>\n",
       "      <th>0</th>\n",
       "      <td>1</td>\n",
       "      <td>B001E4KFG0</td>\n",
       "      <td>A3SGXH7AUHU8GW</td>\n",
       "      <td>delmartian</td>\n",
       "      <td>1</td>\n",
       "      <td>1</td>\n",
       "      <td>positive</td>\n",
       "      <td>1303862400</td>\n",
       "      <td>Good Quality Dog Food</td>\n",
       "      <td>I have bought several of the Vitality canned d...</td>\n",
       "    </tr>\n",
       "    <tr>\n",
       "      <th>1</th>\n",
       "      <td>2</td>\n",
       "      <td>B00813GRG4</td>\n",
       "      <td>A1D87F6ZCVE5NK</td>\n",
       "      <td>dll pa</td>\n",
       "      <td>0</td>\n",
       "      <td>0</td>\n",
       "      <td>negative</td>\n",
       "      <td>1346976000</td>\n",
       "      <td>Not as Advertised</td>\n",
       "      <td>Product arrived labeled as Jumbo Salted Peanut...</td>\n",
       "    </tr>\n",
       "    <tr>\n",
       "      <th>2</th>\n",
       "      <td>3</td>\n",
       "      <td>B000LQOCH0</td>\n",
       "      <td>ABXLMWJIXXAIN</td>\n",
       "      <td>Natalia Corres \"Natalia Corres\"</td>\n",
       "      <td>1</td>\n",
       "      <td>1</td>\n",
       "      <td>positive</td>\n",
       "      <td>1219017600</td>\n",
       "      <td>\"Delight\" says it all</td>\n",
       "      <td>This is a confection that has been around a fe...</td>\n",
       "    </tr>\n",
       "    <tr>\n",
       "      <th>3</th>\n",
       "      <td>4</td>\n",
       "      <td>B000UA0QIQ</td>\n",
       "      <td>A395BORC6FGVXV</td>\n",
       "      <td>Karl</td>\n",
       "      <td>3</td>\n",
       "      <td>3</td>\n",
       "      <td>negative</td>\n",
       "      <td>1307923200</td>\n",
       "      <td>Cough Medicine</td>\n",
       "      <td>If you are looking for the secret ingredient i...</td>\n",
       "    </tr>\n",
       "    <tr>\n",
       "      <th>4</th>\n",
       "      <td>5</td>\n",
       "      <td>B006K2ZZ7K</td>\n",
       "      <td>A1UQRSCLF8GW1T</td>\n",
       "      <td>Michael D. Bigham \"M. Wassir\"</td>\n",
       "      <td>0</td>\n",
       "      <td>0</td>\n",
       "      <td>positive</td>\n",
       "      <td>1350777600</td>\n",
       "      <td>Great taffy</td>\n",
       "      <td>Great taffy at a great price.  There was a wid...</td>\n",
       "    </tr>\n",
       "  </tbody>\n",
       "</table>\n",
       "</div>"
      ],
      "text/plain": [
       "   Id   ProductId          UserId                      ProfileName  \\\n",
       "0   1  B001E4KFG0  A3SGXH7AUHU8GW                       delmartian   \n",
       "1   2  B00813GRG4  A1D87F6ZCVE5NK                           dll pa   \n",
       "2   3  B000LQOCH0   ABXLMWJIXXAIN  Natalia Corres \"Natalia Corres\"   \n",
       "3   4  B000UA0QIQ  A395BORC6FGVXV                             Karl   \n",
       "4   5  B006K2ZZ7K  A1UQRSCLF8GW1T    Michael D. Bigham \"M. Wassir\"   \n",
       "\n",
       "   HelpfulnessNumerator  HelpfulnessDenominator     Score        Time  \\\n",
       "0                     1                       1  positive  1303862400   \n",
       "1                     0                       0  negative  1346976000   \n",
       "2                     1                       1  positive  1219017600   \n",
       "3                     3                       3  negative  1307923200   \n",
       "4                     0                       0  positive  1350777600   \n",
       "\n",
       "                 Summary                                               Text  \n",
       "0  Good Quality Dog Food  I have bought several of the Vitality canned d...  \n",
       "1      Not as Advertised  Product arrived labeled as Jumbo Salted Peanut...  \n",
       "2  \"Delight\" says it all  This is a confection that has been around a fe...  \n",
       "3         Cough Medicine  If you are looking for the secret ingredient i...  \n",
       "4            Great taffy  Great taffy at a great price.  There was a wid...  "
      ]
     },
     "execution_count": 6,
     "metadata": {},
     "output_type": "execute_result"
    }
   ],
   "source": [
    "filtered_data.head()"
   ]
  },
  {
   "cell_type": "code",
   "execution_count": 7,
   "metadata": {},
   "outputs": [
    {
     "name": "stdout",
     "output_type": "stream",
     "text": [
      "<class 'pandas.core.frame.DataFrame'>\n",
      "RangeIndex: 525814 entries, 0 to 525813\n",
      "Data columns (total 10 columns):\n",
      " #   Column                  Non-Null Count   Dtype \n",
      "---  ------                  --------------   ----- \n",
      " 0   Id                      525814 non-null  int64 \n",
      " 1   ProductId               525814 non-null  object\n",
      " 2   UserId                  525814 non-null  object\n",
      " 3   ProfileName             525814 non-null  object\n",
      " 4   HelpfulnessNumerator    525814 non-null  int64 \n",
      " 5   HelpfulnessDenominator  525814 non-null  int64 \n",
      " 6   Score                   525814 non-null  object\n",
      " 7   Time                    525814 non-null  int64 \n",
      " 8   Summary                 525814 non-null  object\n",
      " 9   Text                    525814 non-null  object\n",
      "dtypes: int64(4), object(6)\n",
      "memory usage: 40.1+ MB\n"
     ]
    }
   ],
   "source": [
    "filtered_data.info()"
   ]
  },
  {
   "cell_type": "code",
   "execution_count": 8,
   "metadata": {},
   "outputs": [
    {
     "data": {
      "text/plain": [
       "Index(['Id', 'ProductId', 'UserId', 'ProfileName', 'HelpfulnessNumerator',\n",
       "       'HelpfulnessDenominator', 'Score', 'Time', 'Summary', 'Text'],\n",
       "      dtype='object')"
      ]
     },
     "execution_count": 8,
     "metadata": {},
     "output_type": "execute_result"
    }
   ],
   "source": [
    "filtered_data.columns"
   ]
  },
  {
   "cell_type": "markdown",
   "metadata": {},
   "source": [
    "#  [Exploratory Data Analysis]"
   ]
  },
  {
   "cell_type": "markdown",
   "metadata": {},
   "source": [
    "# Data Cleaning : Deduplication\n",
    "\n",
    "It is observed that the reviews data had many duplicate entries. Hence it is necesssary to remove the duplicates in order to get unbaised results for the analysis of the data"
   ]
  },
  {
   "cell_type": "code",
   "execution_count": 9,
   "metadata": {},
   "outputs": [
    {
     "data": {
      "text/html": [
       "<div>\n",
       "<style scoped>\n",
       "    .dataframe tbody tr th:only-of-type {\n",
       "        vertical-align: middle;\n",
       "    }\n",
       "\n",
       "    .dataframe tbody tr th {\n",
       "        vertical-align: top;\n",
       "    }\n",
       "\n",
       "    .dataframe thead th {\n",
       "        text-align: right;\n",
       "    }\n",
       "</style>\n",
       "<table border=\"1\" class=\"dataframe\">\n",
       "  <thead>\n",
       "    <tr style=\"text-align: right;\">\n",
       "      <th></th>\n",
       "      <th>Id</th>\n",
       "      <th>ProductId</th>\n",
       "      <th>UserId</th>\n",
       "      <th>ProfileName</th>\n",
       "      <th>HelpfulnessNumerator</th>\n",
       "      <th>HelpfulnessDenominator</th>\n",
       "      <th>Score</th>\n",
       "      <th>Time</th>\n",
       "      <th>Summary</th>\n",
       "      <th>Text</th>\n",
       "    </tr>\n",
       "  </thead>\n",
       "  <tbody>\n",
       "    <tr>\n",
       "      <th>29</th>\n",
       "      <td>30</td>\n",
       "      <td>B0001PB9FY</td>\n",
       "      <td>A3HDKO7OW0QNK4</td>\n",
       "      <td>Canadian Fan</td>\n",
       "      <td>1</td>\n",
       "      <td>1</td>\n",
       "      <td>positive</td>\n",
       "      <td>1107820800</td>\n",
       "      <td>The Best Hot Sauce in the World</td>\n",
       "      <td>I don't know if it's the cactus or the tequila...</td>\n",
       "    </tr>\n",
       "    <tr>\n",
       "      <th>530</th>\n",
       "      <td>575</td>\n",
       "      <td>B000G6RYNE</td>\n",
       "      <td>A3PJZ8TU8FDQ1K</td>\n",
       "      <td>Jared Castle</td>\n",
       "      <td>2</td>\n",
       "      <td>2</td>\n",
       "      <td>positive</td>\n",
       "      <td>1231718400</td>\n",
       "      <td>One bite and you'll become a \"chippoisseur\"</td>\n",
       "      <td>I'm addicted to salty and tangy flavors, so wh...</td>\n",
       "    </tr>\n",
       "    <tr>\n",
       "      <th>2119</th>\n",
       "      <td>2310</td>\n",
       "      <td>B0001VWE0M</td>\n",
       "      <td>AQM74O8Z4FMS0</td>\n",
       "      <td>Sunshine</td>\n",
       "      <td>0</td>\n",
       "      <td>0</td>\n",
       "      <td>negative</td>\n",
       "      <td>1127606400</td>\n",
       "      <td>Below standard</td>\n",
       "      <td>Too much of the white pith on this orange peel...</td>\n",
       "    </tr>\n",
       "    <tr>\n",
       "      <th>2133</th>\n",
       "      <td>2324</td>\n",
       "      <td>B0001VWE0C</td>\n",
       "      <td>AQM74O8Z4FMS0</td>\n",
       "      <td>Sunshine</td>\n",
       "      <td>0</td>\n",
       "      <td>0</td>\n",
       "      <td>negative</td>\n",
       "      <td>1127606400</td>\n",
       "      <td>Below standard</td>\n",
       "      <td>Too much of the white pith on this orange peel...</td>\n",
       "    </tr>\n",
       "    <tr>\n",
       "      <th>2146</th>\n",
       "      <td>2337</td>\n",
       "      <td>B0001FQVCK</td>\n",
       "      <td>A5D06XJHDXK75</td>\n",
       "      <td>C. Po</td>\n",
       "      <td>1</td>\n",
       "      <td>1</td>\n",
       "      <td>positive</td>\n",
       "      <td>1190592000</td>\n",
       "      <td>Baci's are pure heaven - great gift, stocking ...</td>\n",
       "      <td>My family has been in love with Baci's ever si...</td>\n",
       "    </tr>\n",
       "    <tr>\n",
       "      <th>...</th>\n",
       "      <td>...</td>\n",
       "      <td>...</td>\n",
       "      <td>...</td>\n",
       "      <td>...</td>\n",
       "      <td>...</td>\n",
       "      <td>...</td>\n",
       "      <td>...</td>\n",
       "      <td>...</td>\n",
       "      <td>...</td>\n",
       "      <td>...</td>\n",
       "    </tr>\n",
       "    <tr>\n",
       "      <th>525770</th>\n",
       "      <td>568410</td>\n",
       "      <td>B0018CLWM4</td>\n",
       "      <td>A2PE0AGWV6OPL7</td>\n",
       "      <td>Dark Water Mermaid</td>\n",
       "      <td>3</td>\n",
       "      <td>3</td>\n",
       "      <td>positive</td>\n",
       "      <td>1309651200</td>\n",
       "      <td>Quality &amp; affordable food</td>\n",
       "      <td>I was very pleased with the ingredient quality...</td>\n",
       "    </tr>\n",
       "    <tr>\n",
       "      <th>525771</th>\n",
       "      <td>568411</td>\n",
       "      <td>B0018CLWM4</td>\n",
       "      <td>A88HLWDCU57WG</td>\n",
       "      <td>R28</td>\n",
       "      <td>2</td>\n",
       "      <td>2</td>\n",
       "      <td>positive</td>\n",
       "      <td>1332979200</td>\n",
       "      <td>litter box</td>\n",
       "      <td>My main reason for the five star review has to...</td>\n",
       "    </tr>\n",
       "    <tr>\n",
       "      <th>525772</th>\n",
       "      <td>568412</td>\n",
       "      <td>B0018CLWM4</td>\n",
       "      <td>AUX1HSY8FX55S</td>\n",
       "      <td>DAW</td>\n",
       "      <td>1</td>\n",
       "      <td>1</td>\n",
       "      <td>positive</td>\n",
       "      <td>1319500800</td>\n",
       "      <td>Happy Camper</td>\n",
       "      <td>I bought this to try on two registered Maine C...</td>\n",
       "    </tr>\n",
       "    <tr>\n",
       "      <th>525773</th>\n",
       "      <td>568413</td>\n",
       "      <td>B0018CLWM4</td>\n",
       "      <td>AVZ2OZ479Q9E8</td>\n",
       "      <td>Ai Ling Chow</td>\n",
       "      <td>0</td>\n",
       "      <td>0</td>\n",
       "      <td>positive</td>\n",
       "      <td>1336435200</td>\n",
       "      <td>Two Siberians like it!</td>\n",
       "      <td>When we brought home two 3-month-old purebred ...</td>\n",
       "    </tr>\n",
       "    <tr>\n",
       "      <th>525774</th>\n",
       "      <td>568414</td>\n",
       "      <td>B0018CLWM4</td>\n",
       "      <td>AI3Y26HLPYW4L</td>\n",
       "      <td>kimosabe</td>\n",
       "      <td>1</td>\n",
       "      <td>2</td>\n",
       "      <td>negative</td>\n",
       "      <td>1330041600</td>\n",
       "      <td>premium edge cat food</td>\n",
       "      <td>My cats don't like it. what else can I say to ...</td>\n",
       "    </tr>\n",
       "  </tbody>\n",
       "</table>\n",
       "<p>161641 rows × 10 columns</p>\n",
       "</div>"
      ],
      "text/plain": [
       "            Id   ProductId          UserId         ProfileName  \\\n",
       "29          30  B0001PB9FY  A3HDKO7OW0QNK4        Canadian Fan   \n",
       "530        575  B000G6RYNE  A3PJZ8TU8FDQ1K        Jared Castle   \n",
       "2119      2310  B0001VWE0M   AQM74O8Z4FMS0            Sunshine   \n",
       "2133      2324  B0001VWE0C   AQM74O8Z4FMS0            Sunshine   \n",
       "2146      2337  B0001FQVCK   A5D06XJHDXK75               C. Po   \n",
       "...        ...         ...             ...                 ...   \n",
       "525770  568410  B0018CLWM4  A2PE0AGWV6OPL7  Dark Water Mermaid   \n",
       "525771  568411  B0018CLWM4   A88HLWDCU57WG                 R28   \n",
       "525772  568412  B0018CLWM4   AUX1HSY8FX55S                 DAW   \n",
       "525773  568413  B0018CLWM4   AVZ2OZ479Q9E8        Ai Ling Chow   \n",
       "525774  568414  B0018CLWM4   AI3Y26HLPYW4L            kimosabe   \n",
       "\n",
       "        HelpfulnessNumerator  HelpfulnessDenominator     Score        Time  \\\n",
       "29                         1                       1  positive  1107820800   \n",
       "530                        2                       2  positive  1231718400   \n",
       "2119                       0                       0  negative  1127606400   \n",
       "2133                       0                       0  negative  1127606400   \n",
       "2146                       1                       1  positive  1190592000   \n",
       "...                      ...                     ...       ...         ...   \n",
       "525770                     3                       3  positive  1309651200   \n",
       "525771                     2                       2  positive  1332979200   \n",
       "525772                     1                       1  positive  1319500800   \n",
       "525773                     0                       0  positive  1336435200   \n",
       "525774                     1                       2  negative  1330041600   \n",
       "\n",
       "                                                  Summary  \\\n",
       "29                        The Best Hot Sauce in the World   \n",
       "530           One bite and you'll become a \"chippoisseur\"   \n",
       "2119                                       Below standard   \n",
       "2133                                       Below standard   \n",
       "2146    Baci's are pure heaven - great gift, stocking ...   \n",
       "...                                                   ...   \n",
       "525770                          Quality & affordable food   \n",
       "525771                                         litter box   \n",
       "525772                                       Happy Camper   \n",
       "525773                             Two Siberians like it!   \n",
       "525774                              premium edge cat food   \n",
       "\n",
       "                                                     Text  \n",
       "29      I don't know if it's the cactus or the tequila...  \n",
       "530     I'm addicted to salty and tangy flavors, so wh...  \n",
       "2119    Too much of the white pith on this orange peel...  \n",
       "2133    Too much of the white pith on this orange peel...  \n",
       "2146    My family has been in love with Baci's ever si...  \n",
       "...                                                   ...  \n",
       "525770  I was very pleased with the ingredient quality...  \n",
       "525771  My main reason for the five star review has to...  \n",
       "525772  I bought this to try on two registered Maine C...  \n",
       "525773  When we brought home two 3-month-old purebred ...  \n",
       "525774  My cats don't like it. what else can I say to ...  \n",
       "\n",
       "[161641 rows x 10 columns]"
      ]
     },
     "execution_count": 9,
     "metadata": {},
     "output_type": "execute_result"
    }
   ],
   "source": [
    "# checking if there are duplicates in the data. For this we will check for\n",
    "# 'UserId', 'ProfileName', 'Time', 'Text'\n",
    "\n",
    "duplicateRowsDF = filtered_data[filtered_data.duplicated(['UserId', 'ProfileName', 'Time', 'Text'])]\n",
    "duplicateRowsDF"
   ]
  },
  {
   "cell_type": "code",
   "execution_count": 10,
   "metadata": {},
   "outputs": [
    {
     "data": {
      "text/html": [
       "<div>\n",
       "<style scoped>\n",
       "    .dataframe tbody tr th:only-of-type {\n",
       "        vertical-align: middle;\n",
       "    }\n",
       "\n",
       "    .dataframe tbody tr th {\n",
       "        vertical-align: top;\n",
       "    }\n",
       "\n",
       "    .dataframe thead th {\n",
       "        text-align: right;\n",
       "    }\n",
       "</style>\n",
       "<table border=\"1\" class=\"dataframe\">\n",
       "  <thead>\n",
       "    <tr style=\"text-align: right;\">\n",
       "      <th></th>\n",
       "      <th>Id</th>\n",
       "      <th>ProductId</th>\n",
       "      <th>UserId</th>\n",
       "      <th>ProfileName</th>\n",
       "      <th>HelpfulnessNumerator</th>\n",
       "      <th>HelpfulnessDenominator</th>\n",
       "      <th>Score</th>\n",
       "      <th>Time</th>\n",
       "      <th>Summary</th>\n",
       "      <th>Text</th>\n",
       "    </tr>\n",
       "  </thead>\n",
       "  <tbody>\n",
       "    <tr>\n",
       "      <th>0</th>\n",
       "      <td>506517</td>\n",
       "      <td>B0001PB9EA</td>\n",
       "      <td>A3HDKO7OW0QNK4</td>\n",
       "      <td>Canadian Fan</td>\n",
       "      <td>0</td>\n",
       "      <td>0</td>\n",
       "      <td>5</td>\n",
       "      <td>1107907200</td>\n",
       "      <td>Authentic Mexican Restaurant Taste</td>\n",
       "      <td>Just as with the Original Tequila Picante Gour...</td>\n",
       "    </tr>\n",
       "    <tr>\n",
       "      <th>1</th>\n",
       "      <td>195372</td>\n",
       "      <td>B0001PB9EK</td>\n",
       "      <td>A3HDKO7OW0QNK4</td>\n",
       "      <td>Canadian Fan</td>\n",
       "      <td>0</td>\n",
       "      <td>0</td>\n",
       "      <td>5</td>\n",
       "      <td>1107907200</td>\n",
       "      <td>Authentic Mexican Restaurant Taste</td>\n",
       "      <td>Just as with the Original Tequila Picante Gour...</td>\n",
       "    </tr>\n",
       "    <tr>\n",
       "      <th>2</th>\n",
       "      <td>11</td>\n",
       "      <td>B0001PB9FE</td>\n",
       "      <td>A3HDKO7OW0QNK4</td>\n",
       "      <td>Canadian Fan</td>\n",
       "      <td>1</td>\n",
       "      <td>1</td>\n",
       "      <td>5</td>\n",
       "      <td>1107820800</td>\n",
       "      <td>The Best Hot Sauce in the World</td>\n",
       "      <td>I don't know if it's the cactus or the tequila...</td>\n",
       "    </tr>\n",
       "    <tr>\n",
       "      <th>3</th>\n",
       "      <td>30</td>\n",
       "      <td>B0001PB9FY</td>\n",
       "      <td>A3HDKO7OW0QNK4</td>\n",
       "      <td>Canadian Fan</td>\n",
       "      <td>1</td>\n",
       "      <td>1</td>\n",
       "      <td>5</td>\n",
       "      <td>1107820800</td>\n",
       "      <td>The Best Hot Sauce in the World</td>\n",
       "      <td>I don't know if it's the cactus or the tequila...</td>\n",
       "    </tr>\n",
       "  </tbody>\n",
       "</table>\n",
       "</div>"
      ],
      "text/plain": [
       "       Id   ProductId          UserId   ProfileName  HelpfulnessNumerator  \\\n",
       "0  506517  B0001PB9EA  A3HDKO7OW0QNK4  Canadian Fan                     0   \n",
       "1  195372  B0001PB9EK  A3HDKO7OW0QNK4  Canadian Fan                     0   \n",
       "2      11  B0001PB9FE  A3HDKO7OW0QNK4  Canadian Fan                     1   \n",
       "3      30  B0001PB9FY  A3HDKO7OW0QNK4  Canadian Fan                     1   \n",
       "\n",
       "   HelpfulnessDenominator  Score        Time  \\\n",
       "0                       0      5  1107907200   \n",
       "1                       0      5  1107907200   \n",
       "2                       1      5  1107820800   \n",
       "3                       1      5  1107820800   \n",
       "\n",
       "                              Summary  \\\n",
       "0  Authentic Mexican Restaurant Taste   \n",
       "1  Authentic Mexican Restaurant Taste   \n",
       "2     The Best Hot Sauce in the World   \n",
       "3     The Best Hot Sauce in the World   \n",
       "\n",
       "                                                Text  \n",
       "0  Just as with the Original Tequila Picante Gour...  \n",
       "1  Just as with the Original Tequila Picante Gour...  \n",
       "2  I don't know if it's the cactus or the tequila...  \n",
       "3  I don't know if it's the cactus or the tequila...  "
      ]
     },
     "execution_count": 10,
     "metadata": {},
     "output_type": "execute_result"
    }
   ],
   "source": [
    "# doing a sanity check if these UserId are really duplicates \n",
    "# Using the first UserId and querying for duplicates\n",
    "\n",
    "dup_disp = pd.read_sql_query(\"\"\"\n",
    "SELECT *\n",
    "FROM Reviews\n",
    "WHERE Score!=3 AND UserId='A3HDKO7OW0QNK4'\n",
    "ORDER BY ProductID\n",
    "\"\"\", con)\n",
    "\n",
    "dup_disp"
   ]
  },
  {
   "cell_type": "raw",
   "metadata": {},
   "source": [
    "In the above result we can see something strange, the customer reviewed the product and the time stamp, summary and text is all the same. How is it possible? Is this an error? No.\n",
    "\n",
    "This is related to how amazon reviews works.If see the both the products (with different IDs but similiar timestamp and summary) then we will observe that both the products are product is same but the quality (flavour or some other feature differs). So the company has given authority to amazon to use the same review for the product variations if one of them is reviewed.\n",
    "\n",
    "\n",
    "But this 'Strangeness' is not good for our ML model as if I have to predict a rating on the same product variation then it will give it a positive if is positive and vice-versa which might not be the case in real life.\n",
    "\n",
    "Hence in order to reduce redundancy it was decided to eliminate the rows having same parameters"
   ]
  },
  {
   "cell_type": "markdown",
   "metadata": {},
   "source": [
    "### Removing  the duplicates"
   ]
  },
  {
   "cell_type": "code",
   "execution_count": 11,
   "metadata": {},
   "outputs": [],
   "source": [
    "# sort the data according to the ProductId in ascending order\n",
    "sorted_data = filtered_data.sort_values('ProductId', axis = 0, ascending = True)"
   ]
  },
  {
   "cell_type": "code",
   "execution_count": 12,
   "metadata": {},
   "outputs": [
    {
     "data": {
      "text/plain": [
       "(364173, 10)"
      ]
     },
     "execution_count": 12,
     "metadata": {},
     "output_type": "execute_result"
    }
   ],
   "source": [
    "# dropping the duplicates (keeping the first value and dropping the rest)\n",
    "deduplicated_data = sorted_data.drop_duplicates(subset = {'UserId', 'ProfileName', 'Time', 'Text'},keep='first',\n",
    "                                                inplace = False)\n",
    " \n",
    "deduplicated_data.shape"
   ]
  },
  {
   "cell_type": "code",
   "execution_count": 13,
   "metadata": {},
   "outputs": [
    {
     "data": {
      "text/plain": [
       "69.25890143662969"
      ]
     },
     "execution_count": 13,
     "metadata": {},
     "output_type": "execute_result"
    }
   ],
   "source": [
    "# finding how much data is left after removing duplicates\n",
    "\n",
    "(deduplicated_data.shape[0]/filtered_data.shape[0])*100.0 "
   ]
  },
  {
   "cell_type": "code",
   "execution_count": 14,
   "metadata": {},
   "outputs": [
    {
     "data": {
      "text/html": [
       "<div>\n",
       "<style scoped>\n",
       "    .dataframe tbody tr th:only-of-type {\n",
       "        vertical-align: middle;\n",
       "    }\n",
       "\n",
       "    .dataframe tbody tr th {\n",
       "        vertical-align: top;\n",
       "    }\n",
       "\n",
       "    .dataframe thead th {\n",
       "        text-align: right;\n",
       "    }\n",
       "</style>\n",
       "<table border=\"1\" class=\"dataframe\">\n",
       "  <thead>\n",
       "    <tr style=\"text-align: right;\">\n",
       "      <th></th>\n",
       "      <th>HelpfulnessNumerator</th>\n",
       "      <th>HelpfulnessDenominator</th>\n",
       "    </tr>\n",
       "  </thead>\n",
       "  <tbody>\n",
       "    <tr>\n",
       "      <th>103780</th>\n",
       "      <td>3</td>\n",
       "      <td>1</td>\n",
       "    </tr>\n",
       "    <tr>\n",
       "      <th>187617</th>\n",
       "      <td>3</td>\n",
       "      <td>2</td>\n",
       "    </tr>\n",
       "  </tbody>\n",
       "</table>\n",
       "</div>"
      ],
      "text/plain": [
       "        HelpfulnessNumerator  HelpfulnessDenominator\n",
       "103780                     3                       1\n",
       "187617                     3                       2"
      ]
     },
     "execution_count": 14,
     "metadata": {},
     "output_type": "execute_result"
    }
   ],
   "source": [
    "# Checking if there are rows where HelpfulnessNumerator is greater than HelpfullnessDenominator which\n",
    "# is not possible\n",
    "\n",
    "d=zip(deduplicated_data['HelpfulnessNumerator'],deduplicated_data['HelpfulnessDenominator'])\n",
    "\n",
    "pd.DataFrame(list(d),columns=['HelpfulnessNumerator','HelpfulnessDenominator']).query(\"HelpfulnessNumerator>HelpfulnessDenominator\")"
   ]
  },
  {
   "cell_type": "code",
   "execution_count": 15,
   "metadata": {},
   "outputs": [
    {
     "data": {
      "text/html": [
       "<div>\n",
       "<style scoped>\n",
       "    .dataframe tbody tr th:only-of-type {\n",
       "        vertical-align: middle;\n",
       "    }\n",
       "\n",
       "    .dataframe tbody tr th {\n",
       "        vertical-align: top;\n",
       "    }\n",
       "\n",
       "    .dataframe thead th {\n",
       "        text-align: right;\n",
       "    }\n",
       "</style>\n",
       "<table border=\"1\" class=\"dataframe\">\n",
       "  <thead>\n",
       "    <tr style=\"text-align: right;\">\n",
       "      <th></th>\n",
       "      <th>Id</th>\n",
       "      <th>ProductId</th>\n",
       "      <th>UserId</th>\n",
       "      <th>ProfileName</th>\n",
       "      <th>HelpfulnessNumerator</th>\n",
       "      <th>HelpfulnessDenominator</th>\n",
       "      <th>Score</th>\n",
       "      <th>Time</th>\n",
       "      <th>Summary</th>\n",
       "      <th>Text</th>\n",
       "    </tr>\n",
       "  </thead>\n",
       "  <tbody>\n",
       "    <tr>\n",
       "      <th>0</th>\n",
       "      <td>64422</td>\n",
       "      <td>B000MIDROQ</td>\n",
       "      <td>A161DK06JJMCYF</td>\n",
       "      <td>J. E. Stephens \"Jeanne\"</td>\n",
       "      <td>3</td>\n",
       "      <td>1</td>\n",
       "      <td>5</td>\n",
       "      <td>1224892800</td>\n",
       "      <td>Bought This for My Son at College</td>\n",
       "      <td>My son loves spaghetti so I didn't hesitate or...</td>\n",
       "    </tr>\n",
       "    <tr>\n",
       "      <th>1</th>\n",
       "      <td>44737</td>\n",
       "      <td>B001EQ55RW</td>\n",
       "      <td>A2V0I904FH7ABY</td>\n",
       "      <td>Ram</td>\n",
       "      <td>3</td>\n",
       "      <td>2</td>\n",
       "      <td>4</td>\n",
       "      <td>1212883200</td>\n",
       "      <td>Pure cocoa taste with crunchy almonds inside</td>\n",
       "      <td>It was almost a 'love at first bite' - the per...</td>\n",
       "    </tr>\n",
       "  </tbody>\n",
       "</table>\n",
       "</div>"
      ],
      "text/plain": [
       "      Id   ProductId          UserId              ProfileName  \\\n",
       "0  64422  B000MIDROQ  A161DK06JJMCYF  J. E. Stephens \"Jeanne\"   \n",
       "1  44737  B001EQ55RW  A2V0I904FH7ABY                      Ram   \n",
       "\n",
       "   HelpfulnessNumerator  HelpfulnessDenominator  Score        Time  \\\n",
       "0                     3                       1      5  1224892800   \n",
       "1                     3                       2      4  1212883200   \n",
       "\n",
       "                                        Summary  \\\n",
       "0             Bought This for My Son at College   \n",
       "1  Pure cocoa taste with crunchy almonds inside   \n",
       "\n",
       "                                                Text  \n",
       "0  My son loves spaghetti so I didn't hesitate or...  \n",
       "1  It was almost a 'love at first bite' - the per...  "
      ]
     },
     "execution_count": 15,
     "metadata": {},
     "output_type": "execute_result"
    }
   ],
   "source": [
    "# other way to do this using sql (this involves knowing the ids)\n",
    "\n",
    "display = pd.read_sql_query(\"\"\"\n",
    "SELECT *\n",
    "FROM Reviews \n",
    "WHERE Score!=3 AND Id=44737 OR Id=64422\n",
    "ORDER BY ProductId\n",
    "\"\"\", con)\n",
    "display"
   ]
  },
  {
   "cell_type": "raw",
   "metadata": {},
   "source": [
    "We can see that we have two rows where there is numerator>denominator so we will have to discard them"
   ]
  },
  {
   "cell_type": "code",
   "execution_count": 16,
   "metadata": {},
   "outputs": [],
   "source": [
    "final_data = deduplicated_data[deduplicated_data.HelpfulnessNumerator<=deduplicated_data\n",
    "                              .HelpfulnessDenominator]"
   ]
  },
  {
   "cell_type": "code",
   "execution_count": 17,
   "metadata": {},
   "outputs": [
    {
     "data": {
      "text/plain": [
       "(364171, 10)"
      ]
     },
     "execution_count": 17,
     "metadata": {},
     "output_type": "execute_result"
    }
   ],
   "source": [
    "# earlier the rows were 364173 and not it is 2 less thus we have successfully \n",
    "# removed the incorrect data\n",
    "\n",
    "final_data.shape "
   ]
  },
  {
   "cell_type": "code",
   "execution_count": 18,
   "metadata": {},
   "outputs": [
    {
     "data": {
      "text/plain": [
       "positive    307061\n",
       "negative     57110\n",
       "Name: Score, dtype: int64"
      ]
     },
     "execution_count": 18,
     "metadata": {},
     "output_type": "execute_result"
    }
   ],
   "source": [
    "# How many positive and negative reviews do we have?\n",
    "\n",
    "final_data['Score'].value_counts()"
   ]
  },
  {
   "cell_type": "markdown",
   "metadata": {},
   "source": [
    "# Bag of Words (BoW)"
   ]
  },
  {
   "cell_type": "code",
   "execution_count": 19,
   "metadata": {},
   "outputs": [],
   "source": [
    "from sklearn.feature_extraction.text import CountVectorizer\n",
    "\n",
    "count_vect = CountVectorizer()\n",
    "final_counts = count_vect.fit_transform(final_data['Text'].values)"
   ]
  },
  {
   "cell_type": "code",
   "execution_count": 20,
   "metadata": {},
   "outputs": [
    {
     "data": {
      "text/plain": [
       "scipy.sparse.csr.csr_matrix"
      ]
     },
     "execution_count": 20,
     "metadata": {},
     "output_type": "execute_result"
    }
   ],
   "source": [
    "type(final_counts)"
   ]
  },
  {
   "cell_type": "code",
   "execution_count": 21,
   "metadata": {},
   "outputs": [
    {
     "data": {
      "text/plain": [
       "(364171, 115281)"
      ]
     },
     "execution_count": 21,
     "metadata": {},
     "output_type": "execute_result"
    }
   ],
   "source": [
    "final_counts.get_shape()"
   ]
  },
  {
   "cell_type": "markdown",
   "metadata": {},
   "source": [
    "# Text Preprocessing : Stemming, Stop-word removal and Lemmatization"
   ]
  },
  {
   "cell_type": "markdown",
   "metadata": {},
   "source": [
    "Now that we have finished deduplication our data requires some preprocessing before we go on further with analysis and making the prediction model.\n",
    "\n",
    "Hence in the Preprocessing phase we do the following in the order below:-\n",
    "\n",
    "1. Begin by removing the html tags\n",
    "2. Remove any punctuations or limited set of special characters like , or . or # etc.\n",
    "3. Check if the word is made up of english letters and is not alpha-numeric\n",
    "4. Check to see if the length of the word is greater than 2 (as it was researched that there is no adjective in 2-letters)\n",
    "5. Convert the word to lowercase\n",
    "6. Remove Stopwords\n",
    "7. Finally Snowball Stemming the word (it was obsereved to be better than Porter Stemming)<br>\n",
    "\n",
    "After which we collect the words used to describe positive and negative reviews"
   ]
  },
  {
   "cell_type": "code",
   "execution_count": 22,
   "metadata": {},
   "outputs": [
    {
     "name": "stdout",
     "output_type": "stream",
     "text": [
      "this witty little book makes my son laugh at loud. i recite it in the car as we're driving along and he always can sing the refrain. he's learned about whales, India, drooping roses:  i love all the new words this book  introduces and the silliness of it all.  this is a classic book i am  willing to bet my son will STILL be able to recite from memory when he is  in college\n",
      "==================================================\n",
      "I was really looking forward to these pods based on the reviews.  Starbucks is good, but I prefer bolder taste.... imagine my surprise when I ordered 2 boxes - both were expired! One expired back in 2005 for gosh sakes.  I admit that Amazon agreed to credit me for cost plus part of shipping, but geez, 2 years expired!!!  I'm hoping to find local San Diego area shoppe that carries pods so that I can try something different than starbucks.\n",
      "==================================================\n",
      "Great ingredients although, chicken should have been 1st rather than chicken broth, the only thing I do not think belongs in it is Canola oil. Canola or rapeseed is not someting a dog would ever find in nature and if it did find rapeseed in nature and eat it, it would poison them. Today's Food industries have convinced the masses that Canola oil is a safe and even better oil than olive or virgin coconut, facts though say otherwise. Until the late 70's it was poisonous until they figured out a way to fix that. I still like it but it could be better.\n",
      "==================================================\n",
      "Can't do sugar.  Have tried scores of SF Syrups.  NONE of them can touch the excellence of this product.<br /><br />Thick, delicious.  Perfect.  3 ingredients: Water, Maltitol, Natural Maple Flavor.  PERIOD.  No chemicals.  No garbage.<br /><br />Have numerous friends & family members hooked on this stuff.  My husband & son, who do NOT like \"sugar free\" prefer this over major label regular syrup.<br /><br />I use this as my SWEETENER in baking: cheesecakes, white brownies, muffins, pumpkin pies, etc... Unbelievably delicious...<br /><br />Can you tell I like it? :)\n",
      "==================================================\n"
     ]
    }
   ],
   "source": [
    "# printing some random reviews to see what preprocessing is to be done\n",
    "\n",
    "sent_0 = final_data['Text'].values[0]\n",
    "print(sent_0)\n",
    "print(\"=\"*50)\n",
    "\n",
    "sent_1000 = final_data['Text'].values[1000]\n",
    "print(sent_1000)\n",
    "print(\"=\"*50)\n",
    "\n",
    "sent_1500 = final_data['Text'].values[1500]\n",
    "print(sent_1500)\n",
    "print(\"=\"*50)\n",
    "\n",
    "sent_4900 = final_data['Text'].values[4900]\n",
    "print(sent_4900)\n",
    "print(\"=\"*50)"
   ]
  },
  {
   "cell_type": "raw",
   "metadata": {},
   "source": [
    "As we can clearly see that there are html tags in the reviews so let's remove them."
   ]
  },
  {
   "cell_type": "code",
   "execution_count": 23,
   "metadata": {},
   "outputs": [
    {
     "name": "stdout",
     "output_type": "stream",
     "text": [
      "6\n",
      "I set aside at least an hour each day to read to my son (3 y/o). At this point, I consider myself a connoisseur of children's books and this is one of the best. Santa Clause put this under the tree. Since then, we've read it perpetually and he loves it.<br /><br />First, this book taught him the months of the year.<br /><br />Second, it's a pleasure to read. Well suited to 1.5 y/o old to 4+.<br /><br />Very few children's books are worth owning. Most should be borrowed from the library. This book, however, deserves a permanent spot on your shelf. Sendak's best.\n"
     ]
    }
   ],
   "source": [
    "# finding sentences containing HTML tags\n",
    "import re\n",
    "\n",
    "count=0\n",
    "for word in final_data['Text'].values:\n",
    "    if len(re.findall('<.*?>',word)):\n",
    "        print(count)\n",
    "        print(word)\n",
    "        break\n",
    "    count+=1"
   ]
  },
  {
   "cell_type": "code",
   "execution_count": 24,
   "metadata": {},
   "outputs": [
    {
     "name": "stdout",
     "output_type": "stream",
     "text": [
      "{\"weren't\", 'both', \"wouldn't\", \"wasn't\", 'during', 'couldn', 'needn', 'or', 'that', 'by', 'aren', 'down', 'about', 'further', 'again', 'do', 'now', 'the', 'her', 'nor', 'me', 'itself', 'into', 'up', 'which', 'their', 'any', 't', 'own', 'a', 'yours', 'this', 'll', 'we', 'so', 'didn', 'most', \"it's\", \"should've\", 'until', 'no', 'just', 'after', 'out', 'above', \"hadn't\", 'has', 'himself', 'same', 'won', 're', 'they', 'he', 'as', 'with', 'not', 'only', 'myself', 'then', 'had', \"shouldn't\", 'such', 'having', 'being', 'whom', 'at', 'for', 'below', 'all', 'did', 'd', 'o', \"didn't\", 'once', 'because', 'doing', 'yourself', 'than', 'am', 'are', 'your', 'have', 'before', 'our', 'there', 'between', 'why', \"mightn't\", 'but', 'doesn', 'does', 'weren', 'how', \"she's\", 'through', 'be', 'hasn', 'shan', 'can', 'what', 'too', \"you'll\", \"shan't\", 'an', 'my', 'here', 'm', 'while', 'on', 'against', 'should', 'who', 'don', \"haven't\", 'other', 'if', 'been', 'hadn', 'of', 'ma', 'ours', 'it', 'will', 'i', 'mightn', 'isn', \"won't\", 'you', \"you've\", 'yourselves', 'some', 'haven', 's', \"hasn't\", 'in', \"couldn't\", \"doesn't\", \"that'll\", 'and', 'off', \"you're\", 'mustn', 'over', 'were', \"isn't\", 'to', 'ain', 'under', 'ourselves', \"aren't\", 'from', 'him', 'wasn', 'where', 'themselves', 'these', 've', 'its', 'his', 'very', 'theirs', \"don't\", 'hers', 'herself', 'them', \"you'd\", 'those', 'when', 'more', 'y', \"mustn't\", 'she', 'shouldn', 'is', \"needn't\", 'wouldn', 'few', 'was', 'each'}\n",
      "*********************************************\n",
      "tasti\n"
     ]
    }
   ],
   "source": [
    "import string\n",
    "from nltk.corpus import stopwords\n",
    "from nltk.stem import PorterStemmer\n",
    "from nltk.stem.wordnet import WordNetLemmatizer\n",
    "\n",
    "# nltk.download('stopwords')\n",
    "\n",
    "stop = set(stopwords.words('english'))  #set of stopwords in english\n",
    "sno = nltk.stem.SnowballStemmer('english')  # creating instance of Snowball Stemmer\n",
    "\n",
    "# function to clean the word of any html-tags\n",
    "def cleaned_html(sentence):\n",
    "    \n",
    "    # compile search string to avoid cache lookup\n",
    "    cleanr = re.compile('<.*>')\n",
    "    \n",
    "    # replace those occurences with blank spaces\n",
    "    cleaned_text = re.sub(cleanr, ' ', sentence)\n",
    "    return cleaned_text\n",
    "\n",
    "def clean_punc(sentence):\n",
    "    cleaned = re.sub(r'[?|!|\\'|\"|#]',r'',sentence)\n",
    "    cleaned = re.sub(r'[.|,|)|(|\\|/]',r' ',cleaned)\n",
    "    return cleaned\n",
    "\n",
    "print(stop)\n",
    "print(\"*********************************************\")\n",
    "print(sno.stem(\"tasty\"))"
   ]
  },
  {
   "cell_type": "code",
   "execution_count": 27,
   "metadata": {},
   "outputs": [],
   "source": [
    "# Code for implementing step by step checks mentioned in the pre-processing list above\n",
    "\n",
    "i=0\n",
    "str1=\" \"\n",
    "final_string=[]\n",
    "all_positive_words=[] # to store positive reviews\n",
    "all_negative_words=[] # to store negative reviews\n",
    "s='' \n",
    "\n",
    "# for each review final text\n",
    "for index in range(len(final_data['Text'])):\n",
    "    \n",
    "    filtered_Sentence=[]\n",
    "    \n",
    "    # remove HTML tags\n",
    "    sent=cleaned_html(final_data['Text'].iloc[index]) \n",
    "    \n",
    "    # split the words\n",
    "    for w in sent.split():\n",
    "        \n",
    "        # remove the punctuations\n",
    "        for cleaned_words in clean_punc(w).split():\n",
    "            \n",
    "            # check if the words are alphanumeric and more than two letters\n",
    "            if((cleaned_words.isalpha()) & (len(cleaned_words)>2)):\n",
    "                \n",
    "                # convert to lower case and if these words (those just filtered \n",
    "                # out in above if condn)  are not stop words\n",
    "                if cleaned_words.lower() not in stop:\n",
    "                    \n",
    "                    # slow then and do stemming and encode them to utf-8 format\n",
    "                    s = (sno.stem(cleaned_words.lower())).encode('utf-8')\n",
    "                    \n",
    "                    # append the words to filtered sentence\n",
    "                    filtered_Sentence.append(s)\n",
    "                    \n",
    "                    # if for the words, corresponding score is positive then append those to\n",
    "                    # positive list else append them to negative list\n",
    "                    if (final_data['Score'].iloc[index]) == 'positive':\n",
    "                        all_positive_words.append(s)\n",
    "                    if (final_data['Score'].iloc[index]) == 'negative':\n",
    "                        all_negative_words.append(s)\n",
    "                    else:\n",
    "                        continue\n",
    "            else:\n",
    "                continue\n",
    "            \n",
    "                \n",
    "        # join the filtered sentences\n",
    "        str1 = b\" \".join(filtered_Sentence)\n",
    "\n",
    "        final_string.append(str1)\n",
    "        i+=1\n"
   ]
  },
  {
   "cell_type": "code",
   "execution_count": 28,
   "metadata": {},
   "outputs": [],
   "source": [
    "final_data[\"CleanedText\"]=pd.Series(final_string)"
   ]
  },
  {
   "cell_type": "code",
   "execution_count": 29,
   "metadata": {
    "scrolled": true
   },
   "outputs": [
    {
     "data": {
      "text/html": [
       "<div>\n",
       "<style scoped>\n",
       "    .dataframe tbody tr th:only-of-type {\n",
       "        vertical-align: middle;\n",
       "    }\n",
       "\n",
       "    .dataframe tbody tr th {\n",
       "        vertical-align: top;\n",
       "    }\n",
       "\n",
       "    .dataframe thead th {\n",
       "        text-align: right;\n",
       "    }\n",
       "</style>\n",
       "<table border=\"1\" class=\"dataframe\">\n",
       "  <thead>\n",
       "    <tr style=\"text-align: right;\">\n",
       "      <th></th>\n",
       "      <th>index</th>\n",
       "      <th>Id</th>\n",
       "      <th>ProductId</th>\n",
       "      <th>UserId</th>\n",
       "      <th>ProfileName</th>\n",
       "      <th>HelpfulnessNumerator</th>\n",
       "      <th>HelpfulnessDenominator</th>\n",
       "      <th>Score</th>\n",
       "      <th>Time</th>\n",
       "      <th>Summary</th>\n",
       "      <th>Text</th>\n",
       "      <th>CleanedText</th>\n",
       "    </tr>\n",
       "  </thead>\n",
       "  <tbody>\n",
       "    <tr>\n",
       "      <th>0</th>\n",
       "      <td>138706</td>\n",
       "      <td>150524</td>\n",
       "      <td>0006641040</td>\n",
       "      <td>ACITT7DI6IDDL</td>\n",
       "      <td>shari zychinski</td>\n",
       "      <td>0</td>\n",
       "      <td>0</td>\n",
       "      <td>positive</td>\n",
       "      <td>939340800</td>\n",
       "      <td>EVERY book is educational</td>\n",
       "      <td>this witty little book makes my son laugh at l...</td>\n",
       "      <td>b''</td>\n",
       "    </tr>\n",
       "    <tr>\n",
       "      <th>1</th>\n",
       "      <td>138688</td>\n",
       "      <td>150506</td>\n",
       "      <td>0006641040</td>\n",
       "      <td>A2IW4PEEKO2R0U</td>\n",
       "      <td>Tracy</td>\n",
       "      <td>1</td>\n",
       "      <td>1</td>\n",
       "      <td>positive</td>\n",
       "      <td>1194739200</td>\n",
       "      <td>Love the book, miss the hard cover version</td>\n",
       "      <td>I grew up reading these Sendak books, and watc...</td>\n",
       "      <td>b'witti'</td>\n",
       "    </tr>\n",
       "    <tr>\n",
       "      <th>2</th>\n",
       "      <td>138689</td>\n",
       "      <td>150507</td>\n",
       "      <td>0006641040</td>\n",
       "      <td>A1S4A3IQ2MU7V4</td>\n",
       "      <td>sally sue \"sally sue\"</td>\n",
       "      <td>1</td>\n",
       "      <td>1</td>\n",
       "      <td>positive</td>\n",
       "      <td>1191456000</td>\n",
       "      <td>chicken soup with rice months</td>\n",
       "      <td>This is a fun way for children to learn their ...</td>\n",
       "      <td>b'witti littl'</td>\n",
       "    </tr>\n",
       "  </tbody>\n",
       "</table>\n",
       "</div>"
      ],
      "text/plain": [
       "    index      Id   ProductId          UserId            ProfileName  \\\n",
       "0  138706  150524  0006641040   ACITT7DI6IDDL        shari zychinski   \n",
       "1  138688  150506  0006641040  A2IW4PEEKO2R0U                  Tracy   \n",
       "2  138689  150507  0006641040  A1S4A3IQ2MU7V4  sally sue \"sally sue\"   \n",
       "\n",
       "   HelpfulnessNumerator  HelpfulnessDenominator     Score        Time  \\\n",
       "0                     0                       0  positive   939340800   \n",
       "1                     1                       1  positive  1194739200   \n",
       "2                     1                       1  positive  1191456000   \n",
       "\n",
       "                                      Summary  \\\n",
       "0                   EVERY book is educational   \n",
       "1  Love the book, miss the hard cover version   \n",
       "2               chicken soup with rice months   \n",
       "\n",
       "                                                Text     CleanedText  \n",
       "0  this witty little book makes my son laugh at l...             b''  \n",
       "1  I grew up reading these Sendak books, and watc...        b'witti'  \n",
       "2  This is a fun way for children to learn their ...  b'witti littl'  "
      ]
     },
     "execution_count": 29,
     "metadata": {},
     "output_type": "execute_result"
    }
   ],
   "source": [
    "final_data.head(3)"
   ]
  },
  {
   "cell_type": "code",
   "execution_count": 30,
   "metadata": {},
   "outputs": [],
   "source": [
    "conn = sqlite3.connect('final_data.sqlite')\n",
    "c = conn.cursor()\n",
    "conn.text_factory = str\n",
    "final_data.to_sql('Reviews', conn, schema= None, if_exists = 'replace')"
   ]
  },
  {
   "cell_type": "code",
   "execution_count": 31,
   "metadata": {},
   "outputs": [],
   "source": [
    "con = sqlite3.connect('final_data.sqlite')"
   ]
  },
  {
   "cell_type": "code",
   "execution_count": 32,
   "metadata": {},
   "outputs": [],
   "source": [
    "final_data = pd.read_sql_query(\"\"\"\n",
    "SELECT *\n",
    "FROM Reviews\n",
    "\"\"\",con)"
   ]
  },
  {
   "cell_type": "markdown",
   "metadata": {},
   "source": [
    "# Bi-Grams and n-Grams\n",
    "\n",
    "### Motivation\n",
    "\n",
    "Now that we have our list of words describing positive and negative reviews lets analyse them.\n",
    "\n",
    "We begin the analysis by getting the frequency distribution of the words as show below"
   ]
  },
  {
   "cell_type": "code",
   "execution_count": 33,
   "metadata": {},
   "outputs": [
    {
     "name": "stdout",
     "output_type": "stream",
     "text": [
      "Most common Positive Words : [(b'like', 115719), (b'tast', 108848), (b'love', 99784), (b'good', 98119), (b'great', 95402), (b'flavor', 91073), (b'use', 85657), (b'product', 80274), (b'one', 80123), (b'tri', 76165), (b'tea', 68126), (b'coffe', 67061), (b'make', 62530), (b'get', 60027), (b'food', 52720), (b'buy', 48952), (b'time', 46467), (b'would', 46303), (b'realli', 44925), (b'amazon', 44397)]\n",
      "*******************************************************************\n",
      "Most common negative words: [(b'tast', 29368), (b'like', 27110), (b'product', 24209), (b'one', 17246), (b'flavor', 16154), (b'would', 15381), (b'tri', 15345), (b'good', 12899), (b'coffe', 12452), (b'buy', 12408), (b'use', 12290), (b'order', 11661), (b'get', 11439), (b'dont', 10135), (b'food', 9956), (b'tea', 9592), (b'box', 9086), (b'even', 9056), (b'amazon', 8535), (b'time', 8138)]\n"
     ]
    }
   ],
   "source": [
    "freq_dist_positive = nltk.FreqDist(all_positive_words)\n",
    "freq_dist_negative = nltk.FreqDist(all_negative_words)\n",
    "print(\"Most common Positive Words :\" ,freq_dist_positive.most_common(20))\n",
    "print(\"*******************************************************************\")\n",
    "print(\"Most common negative words:\" ,freq_dist_negative.most_common(20))"
   ]
  },
  {
   "cell_type": "markdown",
   "metadata": {},
   "source": [
    "### Observation\n",
    "\n",
    "From above it can be seen that the most common positive and negative words overlap for eg. 'like' could be used as 'not like' etc.\n",
    "\n",
    "So, it is a good idea to consider pairs of consequent words (bi-grams) or q sequence of n consecutive words (n-grams)"
   ]
  },
  {
   "cell_type": "code",
   "execution_count": 43,
   "metadata": {},
   "outputs": [],
   "source": [
    "# bi-gram, tri-gram and n-gram\n",
    "\n",
    "# removing stop words like \"not\" should be avoided before building n-grams \n",
    "\n",
    "# ngram range here specifies unigrams and bigrams \n",
    "count_vect = CountVectorizer(ngram_range = (1,2))\n",
    "\n",
    "# Learn the vocabulary dictionary and return term-document matrix.\n",
    "final_bigram_counts = count_vect.fit_transform(final_data['Text'].values)"
   ]
  },
  {
   "cell_type": "code",
   "execution_count": 44,
   "metadata": {},
   "outputs": [
    {
     "data": {
      "text/plain": [
       "(364171, 2910192)"
      ]
     },
     "execution_count": 44,
     "metadata": {},
     "output_type": "execute_result"
    }
   ],
   "source": [
    "final_bigram_counts.get_shape()"
   ]
  },
  {
   "cell_type": "markdown",
   "metadata": {},
   "source": [
    "# TF-IDF"
   ]
  },
  {
   "cell_type": "code",
   "execution_count": 48,
   "metadata": {},
   "outputs": [],
   "source": [
    "# tfidfVectorizer = CountVectorizer + TfidfTransformer\n",
    "\n",
    "from sklearn.feature_extraction.text import TfidfVectorizer\n",
    "\n",
    "# ngram range here specifies unigrams and bigrams \n",
    "tf_idf_vector = TfidfVectorizer(ngram_range=(1,2))\n",
    "\n",
    "# Learn vocabulary and idf, return term-document matrix.\n",
    "final_tf_idf = tf_idf_vector.fit_transform(final_data['Text'].values)"
   ]
  },
  {
   "cell_type": "code",
   "execution_count": 46,
   "metadata": {},
   "outputs": [
    {
     "data": {
      "text/plain": [
       "(364171, 2910192)"
      ]
     },
     "execution_count": 46,
     "metadata": {},
     "output_type": "execute_result"
    }
   ],
   "source": [
    "final_tf_idf.get_shape()"
   ]
  },
  {
   "cell_type": "code",
   "execution_count": 47,
   "metadata": {},
   "outputs": [
    {
     "data": {
      "text/plain": [
       "2910192"
      ]
     },
     "execution_count": 47,
     "metadata": {},
     "output_type": "execute_result"
    }
   ],
   "source": [
    "# Array mapping from feature integer indices to feature name.\n",
    "features = tf_idf_vector.get_feature_names()\n",
    "len(features)"
   ]
  },
  {
   "cell_type": "code",
   "execution_count": 48,
   "metadata": {},
   "outputs": [
    {
     "data": {
      "text/plain": [
       "['ales until',\n",
       " 'ales ve',\n",
       " 'ales would',\n",
       " 'ales you',\n",
       " 'alessandra',\n",
       " 'alessandra ambrosia',\n",
       " 'alessi',\n",
       " 'alessi added',\n",
       " 'alessi also',\n",
       " 'alessi and']"
      ]
     },
     "execution_count": 48,
     "metadata": {},
     "output_type": "execute_result"
    }
   ],
   "source": [
    "# mixture of bigrams and unigrams\n",
    "\n",
    "features[100000:100010]"
   ]
  },
  {
   "cell_type": "code",
   "execution_count": 49,
   "metadata": {},
   "outputs": [
    {
     "name": "stdout",
     "output_type": "stream",
     "text": [
      "[0. 0. 0. ... 0. 0. 0.]\n"
     ]
    }
   ],
   "source": [
    "# convert a row in sparsematrix to a numpy array\n",
    "\n",
    "print(final_tf_idf[3,:].toarray()[0])"
   ]
  },
  {
   "cell_type": "code",
   "execution_count": 50,
   "metadata": {},
   "outputs": [],
   "source": [
    "# get top n tfidf values in row and return them with their corresponding ranks\n",
    "\n",
    "def top_tfidf_feats(row, features, top_n=25):\n",
    "    \n",
    "    # sorting the rows and then taking the last 25 values\n",
    "    topn_ids = np.argsort(row)[::-1][:top_n]\n",
    "    \n",
    "    # making a list of tuples of top 25 features and their tdidfs\n",
    "    top_feats = [(features[i],row[i]) for i in topn_ids]\n",
    "    \n",
    "    # coverting it to a data frame\n",
    "    df = pd.DataFrame(top_feats)\n",
    "    \n",
    "    # given columns the name feature and tdidf\n",
    "    df.columns = ['feature', 'tdidf']\n",
    "    \n",
    "    return df\n",
    "\n",
    "\n",
    "top_tfidf = top_tfidf_feats(final_tf_idf[1, :].toarray()[0],features,25)\n",
    "\n",
    " "
   ]
  },
  {
   "cell_type": "code",
   "execution_count": 51,
   "metadata": {},
   "outputs": [
    {
     "data": {
      "text/html": [
       "<div>\n",
       "<style scoped>\n",
       "    .dataframe tbody tr th:only-of-type {\n",
       "        vertical-align: middle;\n",
       "    }\n",
       "\n",
       "    .dataframe tbody tr th {\n",
       "        vertical-align: top;\n",
       "    }\n",
       "\n",
       "    .dataframe thead th {\n",
       "        text-align: right;\n",
       "    }\n",
       "</style>\n",
       "<table border=\"1\" class=\"dataframe\">\n",
       "  <thead>\n",
       "    <tr style=\"text-align: right;\">\n",
       "      <th></th>\n",
       "      <th>feature</th>\n",
       "      <th>tdidf</th>\n",
       "    </tr>\n",
       "  </thead>\n",
       "  <tbody>\n",
       "    <tr>\n",
       "      <th>0</th>\n",
       "      <td>sendak books</td>\n",
       "      <td>0.173437</td>\n",
       "    </tr>\n",
       "    <tr>\n",
       "      <th>1</th>\n",
       "      <td>rosie movie</td>\n",
       "      <td>0.173437</td>\n",
       "    </tr>\n",
       "    <tr>\n",
       "      <th>2</th>\n",
       "      <td>paperbacks seem</td>\n",
       "      <td>0.173437</td>\n",
       "    </tr>\n",
       "    <tr>\n",
       "      <th>3</th>\n",
       "      <td>cover version</td>\n",
       "      <td>0.173437</td>\n",
       "    </tr>\n",
       "    <tr>\n",
       "      <th>4</th>\n",
       "      <td>these sendak</td>\n",
       "      <td>0.173437</td>\n",
       "    </tr>\n",
       "    <tr>\n",
       "      <th>5</th>\n",
       "      <td>the paperbacks</td>\n",
       "      <td>0.173437</td>\n",
       "    </tr>\n",
       "    <tr>\n",
       "      <th>6</th>\n",
       "      <td>pages open</td>\n",
       "      <td>0.173437</td>\n",
       "    </tr>\n",
       "    <tr>\n",
       "      <th>7</th>\n",
       "      <td>really rosie</td>\n",
       "      <td>0.168074</td>\n",
       "    </tr>\n",
       "    <tr>\n",
       "      <th>8</th>\n",
       "      <td>incorporates them</td>\n",
       "      <td>0.168074</td>\n",
       "    </tr>\n",
       "    <tr>\n",
       "      <th>9</th>\n",
       "      <td>paperbacks</td>\n",
       "      <td>0.168074</td>\n",
       "    </tr>\n",
       "    <tr>\n",
       "      <th>10</th>\n",
       "      <td>however miss</td>\n",
       "      <td>0.164269</td>\n",
       "    </tr>\n",
       "    <tr>\n",
       "      <th>11</th>\n",
       "      <td>hard cover</td>\n",
       "      <td>0.164269</td>\n",
       "    </tr>\n",
       "    <tr>\n",
       "      <th>12</th>\n",
       "      <td>seem kind</td>\n",
       "      <td>0.161317</td>\n",
       "    </tr>\n",
       "    <tr>\n",
       "      <th>13</th>\n",
       "      <td>up reading</td>\n",
       "      <td>0.156867</td>\n",
       "    </tr>\n",
       "    <tr>\n",
       "      <th>14</th>\n",
       "      <td>that incorporates</td>\n",
       "      <td>0.155100</td>\n",
       "    </tr>\n",
       "    <tr>\n",
       "      <th>15</th>\n",
       "      <td>the pages</td>\n",
       "      <td>0.149737</td>\n",
       "    </tr>\n",
       "    <tr>\n",
       "      <th>16</th>\n",
       "      <td>sendak</td>\n",
       "      <td>0.149737</td>\n",
       "    </tr>\n",
       "    <tr>\n",
       "      <th>17</th>\n",
       "      <td>rosie</td>\n",
       "      <td>0.146786</td>\n",
       "    </tr>\n",
       "    <tr>\n",
       "      <th>18</th>\n",
       "      <td>of flimsy</td>\n",
       "      <td>0.146786</td>\n",
       "    </tr>\n",
       "    <tr>\n",
       "      <th>19</th>\n",
       "      <td>two hands</td>\n",
       "      <td>0.145130</td>\n",
       "    </tr>\n",
       "    <tr>\n",
       "      <th>20</th>\n",
       "      <td>movie that</td>\n",
       "      <td>0.144374</td>\n",
       "    </tr>\n",
       "    <tr>\n",
       "      <th>21</th>\n",
       "      <td>reading these</td>\n",
       "      <td>0.137184</td>\n",
       "    </tr>\n",
       "    <tr>\n",
       "      <th>22</th>\n",
       "      <td>too do</td>\n",
       "      <td>0.134491</td>\n",
       "    </tr>\n",
       "    <tr>\n",
       "      <th>23</th>\n",
       "      <td>incorporates</td>\n",
       "      <td>0.134147</td>\n",
       "    </tr>\n",
       "    <tr>\n",
       "      <th>24</th>\n",
       "      <td>flimsy and</td>\n",
       "      <td>0.132254</td>\n",
       "    </tr>\n",
       "  </tbody>\n",
       "</table>\n",
       "</div>"
      ],
      "text/plain": [
       "              feature     tdidf\n",
       "0        sendak books  0.173437\n",
       "1         rosie movie  0.173437\n",
       "2     paperbacks seem  0.173437\n",
       "3       cover version  0.173437\n",
       "4        these sendak  0.173437\n",
       "5      the paperbacks  0.173437\n",
       "6          pages open  0.173437\n",
       "7        really rosie  0.168074\n",
       "8   incorporates them  0.168074\n",
       "9          paperbacks  0.168074\n",
       "10       however miss  0.164269\n",
       "11         hard cover  0.164269\n",
       "12          seem kind  0.161317\n",
       "13         up reading  0.156867\n",
       "14  that incorporates  0.155100\n",
       "15          the pages  0.149737\n",
       "16             sendak  0.149737\n",
       "17              rosie  0.146786\n",
       "18          of flimsy  0.146786\n",
       "19          two hands  0.145130\n",
       "20         movie that  0.144374\n",
       "21      reading these  0.137184\n",
       "22             too do  0.134491\n",
       "23       incorporates  0.134147\n",
       "24         flimsy and  0.132254"
      ]
     },
     "execution_count": 51,
     "metadata": {},
     "output_type": "execute_result"
    }
   ],
   "source": [
    "top_tfidf"
   ]
  },
  {
   "cell_type": "markdown",
   "metadata": {},
   "source": [
    "# Word2Vec"
   ]
  },
  {
   "cell_type": "code",
   "execution_count": 34,
   "metadata": {},
   "outputs": [],
   "source": [
    "# Training our W2V model using our text corpus\n",
    "\n",
    "import gensim\n",
    "\n",
    "# creating a list of list of sentences\n",
    "i=0\n",
    "list_of_sent=[]\n",
    "for sent in final_data['Text'].values:\n",
    "    filtered_Sentence = []\n",
    "    sent = cleaned_html(sent)\n",
    "    for w in sent.split():\n",
    "        for cleaned_words in clean_punc(w).split():\n",
    "            if cleaned_words.isalpha():\n",
    "                filtered_Sentence.append(cleaned_words.lower())\n",
    "            else:\n",
    "                continue\n",
    "    list_of_sent.append(filtered_Sentence)"
   ]
  },
  {
   "cell_type": "code",
   "execution_count": 35,
   "metadata": {},
   "outputs": [
    {
     "name": "stdout",
     "output_type": "stream",
     "text": [
      "this witty little book makes my son laugh at loud. i recite it in the car as we're driving along and he always can sing the refrain. he's learned about whales, India, drooping roses:  i love all the new words this book  introduces and the silliness of it all.  this is a classic book i am  willing to bet my son will STILL be able to recite from memory when he is  in college\n",
      "******************************************************\n",
      "['this', 'witty', 'little', 'book', 'makes', 'my', 'son', 'laugh', 'at', 'loud', 'i', 'recite', 'it', 'in', 'the', 'car', 'as', 'were', 'driving', 'along', 'and', 'he', 'always', 'can', 'sing', 'the', 'refrain', 'hes', 'learned', 'about', 'whales', 'india', 'drooping', 'i', 'love', 'all', 'the', 'new', 'words', 'this', 'book', 'introduces', 'and', 'the', 'silliness', 'of', 'it', 'all', 'this', 'is', 'a', 'classic', 'book', 'i', 'am', 'willing', 'to', 'bet', 'my', 'son', 'will', 'still', 'be', 'able', 'to', 'recite', 'from', 'memory', 'when', 'he', 'is', 'in', 'college']\n"
     ]
    }
   ],
   "source": [
    "print(final_data['Text'].values[0])\n",
    "print(\"******************************************************\")\n",
    "print(list_of_sent[0])"
   ]
  },
  {
   "cell_type": "code",
   "execution_count": 36,
   "metadata": {},
   "outputs": [],
   "source": [
    "# training the Word2Vec model\n",
    "\n",
    "# min_count = threshold for count needed for converting to a vector\n",
    "# size = dimensionality of vector\n",
    "# workers = number of cores to be used\n",
    "w2v_model=gensim.models.Word2Vec(list_of_sent,min_count=5,size=50,workers=4)"
   ]
  },
  {
   "cell_type": "code",
   "execution_count": 37,
   "metadata": {},
   "outputs": [
    {
     "name": "stdout",
     "output_type": "stream",
     "text": [
      "29598\n"
     ]
    }
   ],
   "source": [
    "words = list(w2v_model.wv.vocab)\n",
    "print(len(words))"
   ]
  },
  {
   "cell_type": "code",
   "execution_count": 42,
   "metadata": {},
   "outputs": [
    {
     "data": {
      "text/plain": [
       "[('tastey', 0.9102219343185425),\n",
       " ('satisfying', 0.851014256477356),\n",
       " ('yummy', 0.8407638072967529),\n",
       " ('filling', 0.8295317888259888),\n",
       " ('delicious', 0.8210980892181396),\n",
       " ('flavorful', 0.7957178354263306),\n",
       " ('addicting', 0.765272855758667),\n",
       " ('nutritious', 0.7598146796226501),\n",
       " ('versatile', 0.74832683801651),\n",
       " ('tasteful', 0.7362043261528015)]"
      ]
     },
     "execution_count": 42,
     "metadata": {},
     "output_type": "execute_result"
    }
   ],
   "source": [
    "# finding most similiar words to 'tasty' using our corpus\n",
    "\n",
    "w2v_model.wv.most_similar('tasty')"
   ]
  },
  {
   "cell_type": "code",
   "execution_count": 43,
   "metadata": {},
   "outputs": [
    {
     "data": {
      "text/plain": [
       "[('resemble', 0.7059104442596436),\n",
       " ('prefer', 0.6436566114425659),\n",
       " ('dislike', 0.6395384669303894),\n",
       " ('alright', 0.6385933756828308),\n",
       " ('mean', 0.6337987780570984),\n",
       " ('fake', 0.614410400390625),\n",
       " ('think', 0.6089397072792053),\n",
       " ('overpower', 0.6076534986495972),\n",
       " ('miss', 0.5803244113922119),\n",
       " ('weird', 0.5788125395774841)]"
      ]
     },
     "execution_count": 43,
     "metadata": {},
     "output_type": "execute_result"
    }
   ],
   "source": [
    "# finding most similiar words to 'like' using our corpus\n",
    "\n",
    "w2v_model.wv.most_similar('like')"
   ]
  },
  {
   "cell_type": "code",
   "execution_count": 44,
   "metadata": {},
   "outputs": [
    {
     "data": {
      "text/plain": [
       "1442686"
      ]
     },
     "execution_count": 44,
     "metadata": {},
     "output_type": "execute_result"
    }
   ],
   "source": [
    "# name of word in the BoW reperesentation\n",
    "count_vect_feat = count_vect.get_feature_names()\n",
    "\n",
    "# what is the index of word 'like'\n",
    "count_vect_feat.index('like')"
   ]
  },
  {
   "cell_type": "code",
   "execution_count": 45,
   "metadata": {},
   "outputs": [
    {
     "name": "stdout",
     "output_type": "stream",
     "text": [
      "like\n"
     ]
    }
   ],
   "source": [
    "print(count_vect_feat[1442686])"
   ]
  },
  {
   "cell_type": "markdown",
   "metadata": {},
   "source": [
    "# Avg W2V, TFIDF-W2V"
   ]
  },
  {
   "cell_type": "code",
   "execution_count": 38,
   "metadata": {},
   "outputs": [
    {
     "name": "stdout",
     "output_type": "stream",
     "text": [
      "22805524\n",
      "50\n"
     ]
    }
   ],
   "source": [
    "# average W2V\n",
    "# compute average Word2Vec for each review.\n",
    "\n",
    "# the avg-w2v for each sentence/review will be stored in this list\n",
    "sent_vectors = []\n",
    "\n",
    "# for each review/sentence\n",
    "for sent in list_of_sent:\n",
    "    \n",
    "    # initialise sent_vec with zeroes\n",
    "    sent_vec = np.zeros(50)\n",
    "    \n",
    "    # number of words with a valid vector in the sentence/review \n",
    "    cnt_words = 0\n",
    "    \n",
    "    # for each word in review/sentence\n",
    "    for word in sent:\n",
    "        \n",
    "        try:\n",
    "            \n",
    "            # computing vector using w2v model\n",
    "            vec = w2v_model.wv[word]\n",
    "            \n",
    "            # add those vectors to sentence vector\n",
    "            sent_vec+=vec\n",
    "            \n",
    "            # increase the count\n",
    "            cnt_words +=1\n",
    "        except:\n",
    "            pass\n",
    "        \n",
    "        \n",
    "        if cnt_words!=0:\n",
    "            \n",
    "            # calculate average\n",
    "            sent_vec/= cnt_words\n",
    "      \n",
    "        # appending the vectors to a final list \n",
    "        sent_vectors.append(sent_vec)\n",
    "        \n",
    "print(len(sent_vectors))\n",
    "print(len(sent_vectors[0]))"
   ]
  },
  {
   "cell_type": "code",
   "execution_count": null,
   "metadata": {},
   "outputs": [],
   "source": [
    "# TF-IDF weighted Word2Vec\n",
    "\n",
    "# tf-idf words/col-names\n",
    "tfidf_feat = tf_idf_vector.get_feature_names()\n",
    "\n",
    "\n",
    "# final_tf_idf is the sparse matrix with row = sentence, col=word and cell_values\n",
    "# as tfidf\n",
    "\n",
    "# the tfidf-w2v for each sentence/review is stored in this list\n",
    "tfidf_sent_vectors = []\n",
    "row = 0\n",
    "\n",
    "# for each review/sentence\n",
    "for sent in list_of_sent:\n",
    "    \n",
    "    # as words vectors are of zero length\n",
    "    sent_vec = np.zeros(50)\n",
    "    \n",
    "    # num of words with a valid vector in the sentence/review\n",
    "    weight_sum = 0\n",
    "    \n",
    "    # for each word in review/sentence\n",
    "    for word in sent:\n",
    "        try:\n",
    "            vec = w2v_model.wv[word]\n",
    "     \n",
    "            tf_idf = final_tf_idf[row, tfidf_feat.index(word)]\n",
    "            sent_vec += (vec * tf_idf)\n",
    "            weight_sum += tf_idf\n",
    "        except:\n",
    "            pass\n",
    "        \n",
    "    sent_vec /= weight_sum\n",
    "    tfidf_sent_vectors.append(sent_vec)\n",
    "    row += 1\n",
    "    "
   ]
  },
  {
   "cell_type": "markdown",
   "metadata": {},
   "source": [
    "# Applying TSNE\n",
    "\n",
    "\n",
    "<ol> \n",
    "    <li> We will plot 4 tsne plots with each of these feature set\n",
    "        <ol>\n",
    "            <li>Review text, preprocessed one converted into vectors using (BOW)</li>\n",
    "            <li>Review text, preprocessed one converted into vectors using (TFIDF)</li>\n",
    "            <li>Review text, preprocessed one converted into vectors using (AVG W2v)</li>\n",
    "            <li>Review text, preprocessed one converted into vectors using (TFIDF W2v)</li>\n",
    "        </ol>\n",
    "    </li><br>\n",
    "    <li>Note 1: The TSNE accepts only dense matrices</font></li>\n",
    "    <li>Note 2: We have considered only 5k-7k data points for computational reasons.</font></li>\n",
    "</ol>"
   ]
  },
  {
   "cell_type": "markdown",
   "metadata": {},
   "source": [
    "### Applying TNSE on Text BoW vectors\n"
   ]
  },
  {
   "cell_type": "code",
   "execution_count": 42,
   "metadata": {},
   "outputs": [],
   "source": [
    "from sklearn.manifold import TSNE"
   ]
  },
  {
   "cell_type": "code",
   "execution_count": null,
   "metadata": {},
   "outputs": [],
   "source": [
    "# Applying TSNE on BoW\n",
    "\n",
    "data_2000 = final_counts[0:2000,:].todense()\n",
    "labels_2000 = final_data[\"Score\"][0:2000]"
   ]
  },
  {
   "cell_type": "code",
   "execution_count": 30,
   "metadata": {},
   "outputs": [
    {
     "data": {
      "image/png": "[encoded data removed]",
      "text/plain": [
       "<Figure size 511.75x432 with 1 Axes>"
      ]
     },
     "metadata": {
      "needs_background": "light"
     },
     "output_type": "display_data"
    }
   ],
   "source": [
    "# training our TSNE model\n",
    "\n",
    "\n",
    "# number of components given = 2 as we want 2D visualisation\n",
    "# perplexity = 50 \n",
    "# learning rate = 200 (default)\n",
    "# number of iterations = 5000\n",
    "model = TSNE(n_components=2, random_state=2, perplexity=50, n_iter=5000)\n",
    "\n",
    "# learning the model and applying it to the data\n",
    "tsne_data = model.fit_transform(data_7000)\n",
    "\n",
    "# creating a new data for plotting the resultant data by stacking\n",
    "# the data and labels together vertically\n",
    "tsne_data = np.vstack((tsne_data.T, labels_7000)).T\n",
    "\n",
    "# coverting it to dataframe\n",
    "tsne_df = pd.DataFrame(data = tsne_data, columns = (\"Dim_1\", \"Dim_2\", \"label\"))\n",
    "\n",
    "# Plotting the result using tsne\n",
    "sns.FacetGrid(tsne_df, hue=\"label\", height=6).map(plt.scatter, \"Dim_1\", \"Dim_2\").add_legend()\n",
    "\n",
    "plt.show()"
   ]
  },
  {
   "cell_type": "code",
   "execution_count": 32,
   "metadata": {},
   "outputs": [
    {
     "data": {
      "image/png": "[encoded data removed]",
      "text/plain": [
       "<Figure size 511.75x432 with 1 Axes>"
      ]
     },
     "metadata": {
      "needs_background": "light"
     },
     "output_type": "display_data"
    }
   ],
   "source": [
    "# plotting again by varying some hyperparameters\n",
    "\n",
    "# number of components given = 2 as we want 2D visualisation (default)\n",
    "# perplexity = 30\n",
    "# learning rate = 200 (default)\n",
    "# number of iterations = 1000 (default)\n",
    "model = TSNE(n_components=2, random_state=0)\n",
    "\n",
    "# learning the model and applying it to the data\n",
    "tsne_data = model.fit_transform(data_7000)\n",
    "\n",
    "# creating a new data for plotting the resultant data by stacking\n",
    "# the data and labels together vertically\n",
    "tsne_data = np.vstack((tsne_data.T, labels_7000)).T\n",
    "\n",
    "# coverting it to dataframe\n",
    "tsne_df = pd.DataFrame(data = tsne_data, columns = (\"Dim_1\", \"Dim_2\", \"label\"))\n",
    "\n",
    "# Plotting the result using tsne\n",
    "sns.FacetGrid(tsne_df, hue=\"label\", height=6).map(plt.scatter, \"Dim_1\", \"Dim_2\").add_legend()\n",
    "\n",
    "plt.show()"
   ]
  },
  {
   "cell_type": "code",
   "execution_count": 34,
   "metadata": {},
   "outputs": [],
   "source": [
    "# Applying TSNE on TFIDF\n",
    "\n",
    "data_5000 = final_tf_idf[0:5000,:]\n",
    "labels_5000 = final_data[\"Score\"][0:5000]"
   ]
  },
  {
   "cell_type": "code",
   "execution_count": 81,
   "metadata": {},
   "outputs": [
    {
     "data": {
      "image/png": "[encoded data removed]",
      "text/plain": [
       "<Figure size 511.75x432 with 1 Axes>"
      ]
     },
     "metadata": {
      "needs_background": "light"
     },
     "output_type": "display_data"
    }
   ],
   "source": [
    "# training our TSNE model\n",
    "\n",
    "\n",
    "# number of components given = 2 as we want 2D visualisation\n",
    "# perplexity = 50 \n",
    "# learning rate = 200 (default)\n",
    "# number of iterations = 5000\n",
    "model = TSNE(n_components=2, random_state=2, perplexity=50, n_iter=5000)\n",
    "\n",
    "# learning the model and applying it to the data\n",
    "tsne_data = model.fit_transform(data_5000)\n",
    "\n",
    "# creating a new data for plotting the resultant data by stacking\n",
    "# the data and labels together vertically\n",
    "tsne_data = np.vstack((tsne_data.T, labels_5000)).T\n",
    "\n",
    "# coverting it to dataframe\n",
    "tsne_df = pd.DataFrame(data = tsne_data, columns = (\"Dim_1\", \"Dim_2\", \"label\"))\n",
    "\n",
    "# Plotting the result using tsne\n",
    "sns.FacetGrid(tsne_df, hue=\"label\", height=6).map(plt.scatter, \"Dim_1\", \"Dim_2\").add_legend()\n",
    "\n",
    "plt.show()"
   ]
  },
  {
   "cell_type": "code",
   "execution_count": 35,
   "metadata": {},
   "outputs": [
    {
     "data": {
      "image/png": "[encoded data removed]",
      "text/plain": [
       "<Figure size 511.75x432 with 1 Axes>"
      ]
     },
     "metadata": {
      "needs_background": "light"
     },
     "output_type": "display_data"
    }
   ],
   "source": [
    "# training our TSNE model\n",
    "\n",
    "\n",
    "# number of components given = 2 as we want 2D visualisation (default)\n",
    "# perplexity = 30\n",
    "# learning rate = 200 (default)\n",
    "# number of iterations = 1000 (default)\n",
    "model = TSNE(n_components=2, random_state=0)\n",
    "\n",
    "# learning the model and applying it to the data\n",
    "tsne_data = model.fit_transform(data_5000)\n",
    "\n",
    "# creating a new data for plotting the resultant data by stacking\n",
    "# the data and labels together vertically\n",
    "tsne_data = np.vstack((tsne_data.T, labels_5000)).T\n",
    "\n",
    "# coverting it to dataframe\n",
    "tsne_df = pd.DataFrame(data = tsne_data, columns = (\"Dim_1\", \"Dim_2\", \"label\"))\n",
    "\n",
    "# Plotting the result using tsne\n",
    "sns.FacetGrid(tsne_df, hue=\"label\", height=6).map(plt.scatter, \"Dim_1\", \"Dim_2\").add_legend()\n",
    "\n",
    "plt.show()"
   ]
  },
  {
   "cell_type": "code",
   "execution_count": 40,
   "metadata": {},
   "outputs": [],
   "source": [
    "# Applying TSNE on Average Word2Vec \n",
    "\n",
    "data_5000 = sent_vectors[0:5000]\n",
    "labels_5000 = final_data[\"Score\"][0:5000]"
   ]
  },
  {
   "cell_type": "code",
   "execution_count": 44,
   "metadata": {},
   "outputs": [
    {
     "data": {
      "image/png": "[encoded data removed]",
      "text/plain": [
       "<Figure size 511.75x432 with 1 Axes>"
      ]
     },
     "metadata": {
      "needs_background": "light"
     },
     "output_type": "display_data"
    }
   ],
   "source": [
    "# training our TSNE model\n",
    "\n",
    "\n",
    "# number of components given = 2 as we want 2D visualisation\n",
    "# perplexity = 50 \n",
    "# learning rate = 200 (default)\n",
    "# number of iterations = 5000\n",
    "model = TSNE(n_components=2, random_state=2, perplexity=50, n_iter=2000)\n",
    "\n",
    "# learning the model and applying it to the data\n",
    "tsne_data = model.fit_transform(data_5000)\n",
    "\n",
    "# creating a new data for plotting the resultant data by stacking\n",
    "# the data and labels together vertically\n",
    "tsne_data = np.vstack((tsne_data.T, labels_5000)).T\n",
    "\n",
    "# coverting it to dataframe\n",
    "tsne_df = pd.DataFrame(data = tsne_data, columns = (\"Dim_1\", \"Dim_2\", \"label\"))\n",
    "\n",
    "# Plotting the result using tsne\n",
    "sns.FacetGrid(tsne_df, hue=\"label\", height=6).map(plt.scatter, \"Dim_1\", \"Dim_2\").add_legend()\n",
    "\n",
    "plt.show()"
   ]
  },
  {
   "cell_type": "code",
   "execution_count": 46,
   "metadata": {},
   "outputs": [
    {
     "data": {
      "image/png": "[encoded data removed]",
      "text/plain": [
       "<Figure size 511.75x432 with 1 Axes>"
      ]
     },
     "metadata": {
      "needs_background": "light"
     },
     "output_type": "display_data"
    }
   ],
   "source": [
    "# training our TSNE model\n",
    "\n",
    "\n",
    "# number of components given = 2 as we want 2D visualisation (default)\n",
    "# perplexity = 30\n",
    "# learning rate = 200 (default)\n",
    "# number of iterations = 1000 (default)\n",
    "model = TSNE(n_components=2, random_state=0, perplexity=40)\n",
    "\n",
    "# learning the model and applying it to the data\n",
    "tsne_data = model.fit_transform(data_5000)\n",
    "\n",
    "# creating a new data for plotting the resultant data by stacking\n",
    "# the data and labels together vertically\n",
    "tsne_data = np.vstack((tsne_data.T, labels_5000)).T\n",
    "\n",
    "# coverting it to dataframe\n",
    "tsne_df = pd.DataFrame(data = tsne_data, columns = (\"Dim_1\", \"Dim_2\", \"label\"))\n",
    "\n",
    "# Plotting the result using tsne\n",
    "sns.FacetGrid(tsne_df, hue=\"label\", height=6).map(plt.scatter, \"Dim_1\", \"Dim_2\").add_legend()\n",
    "\n",
    "plt.show()"
   ]
  },
  {
   "cell_type": "markdown",
   "metadata": {},
   "source": [
    "# Observations\n",
    "\n",
    "### Bag of Words Model\n",
    "We can clearly observe that using t-sne on Bag of Words model with 7K points, the plot of both the class label are not seperable and even on varying the perplexity and other hyperparameters, the result was the same. <br>\n",
    "\n",
    "### Term Frequency- Inverse Document Frequency (TF-IDF) Model\n",
    "When plotting t-sne for TF-IDF model using 5k points, we observe that the plot was a not collapsed and dense as compared to the BoW model but still the two classes (positive and negative) were too much overlapped and hence cannot be seperated. <br>\n",
    "Another obeservation here was that when we decrease the perplexity and number of iterations then there lot of overlapping at the center and the points were spread out around the cluster.\n",
    "\n",
    "### Average Word2Vector Model\n",
    "When plotting t-sne for Average W2V model using 5k points we observed that the there were small orange clusters (negative data points) spread out everywhere. The blue clusters (positive data points) were covered by the orange clusters thus making it impossible to seperate them. After changes in hyperparameters, the plot remained the same.\n",
    "\n"
   ]
  },
  {
   "cell_type": "code",
   "execution_count": null,
   "metadata": {},
   "outputs": [],
   "source": []
  }
 ],
 "metadata": {
  "kernelspec": {
   "display_name": "Python 3",
   "language": "python",
   "name": "python3"
  },
  "language_info": {
   "codemirror_mode": {
    "name": "ipython",
    "version": 3
   },
   "file_extension": ".py",
   "mimetype": "text/x-python",
   "name": "python",
   "nbconvert_exporter": "python",
   "pygments_lexer": "ipython3",
   "version": "3.7.6"
  }
 },
 "nbformat": 4,
 "nbformat_minor": 4
}
