{
  "nbformat": 4,
  "nbformat_minor": 0,
  "metadata": {
    "colab": {
      "name": "Applying KNN for BoW.ipynb",
      "provenance": [],
      "collapsed_sections": []
    },
    "kernelspec": {
      "name": "python3",
      "display_name": "Python 3"
    }
  },
  "cells": [
    {
      "cell_type": "markdown",
      "metadata": {
        "id": "_I5lgmumx2vm",
        "colab_type": "text"
      },
      "source": [
        "# Amazon Fine Food Reviews Analysis\n",
        "\n",
        "\n",
        "Data Source: https://www.kaggle.com/snap/amazon-fine-food-reviews <br>\n",
        "\n",
        "EDA: https://nycdatascience.com/blog/student-works/amazon-fine-foods-visualization/\n",
        "\n",
        "\n",
        "The Amazon Fine Food Reviews dataset consists of reviews of fine foods from Amazon.<br>\n",
        "\n",
        "Number of reviews: 568,454<br>\n",
        "Number of users: 256,059<br>\n",
        "Number of products: 74,258<br>\n",
        "Timespan: Oct 1999 - Oct 2012<br>\n",
        "Number of Attributes/Columns in data: 10 \n",
        "\n",
        "Attribute Information:\n",
        "\n",
        "1. Id\n",
        "2. ProductId - unique identifier for the product\n",
        "3. UserId - unqiue identifier for the user\n",
        "4. ProfileName\n",
        "5. HelpfulnessNumerator - number of users who found the review helpful (Postive reviews)\n",
        "6. HelpfulnessDenominator - number of users who indicated whether they found the review helpful or not (positive+negative)\n",
        "7. Score - rating between 1 and 5\n",
        "8. Time - timestamp for the review (UNIX)\n",
        "9. Summary - brief summary of the review\n",
        "10. Text - text of the review\n",
        "\n",
        "\n",
        "#### Objective:\n",
        "Given a review, determine whether the review is positive (Rating of 4 or 5) or negative (rating of 1 or 2).\n",
        "\n",
        "<br>\n",
        "[Q] How to determine if a review is positive or negative?<br>\n",
        "<br> \n",
        "[Ans] We could use the Score/Rating. A rating of 4 or 5 could be cosnidered a positive review. A review of 1 or 2 could be considered negative. A review of 3 is nuetral and ignored. This is an approximate and proxy way of determining the polarity (positivity/negativity) of a review.\n",
        "\n"
      ]
    },
    {
      "cell_type": "code",
      "metadata": {
        "id": "iniIqcMSxYbY",
        "colab_type": "code",
        "colab": {}
      },
      "source": [
        "%matplotlib inline\n",
        "import warnings\n",
        "warnings.filterwarnings(\"ignore\")\n",
        "\n",
        "\n",
        "import sqlite3\n",
        "import pandas as pd\n",
        "import numpy as np\n",
        "import nltk\n",
        "import string\n",
        "import matplotlib.pyplot as plt\n",
        "import seaborn as sns"
      ],
      "execution_count": 0,
      "outputs": []
    },
    {
      "cell_type": "code",
      "metadata": {
        "id": "EFZXiUxFy_aP",
        "colab_type": "code",
        "colab": {}
      },
      "source": [
        "# using Sqlite table to read data\n",
        "\n",
        "con = sqlite3.connect('/content/drive/My Drive/database.sqlite')"
      ],
      "execution_count": 0,
      "outputs": []
    },
    {
      "cell_type": "code",
      "metadata": {
        "id": "aVKsHiGnzBOT",
        "colab_type": "code",
        "colab": {}
      },
      "source": [
        "# reading only postive and negative reviews i.e not\n",
        "# taking into account those revoews with score=3\n",
        "\n",
        "filtered_data = pd.read_sql_query(\"\"\"\n",
        "SELECT * \n",
        "FROM Reviews\n",
        "WHERE Score!=3\n",
        "\"\"\", con)"
      ],
      "execution_count": 0,
      "outputs": []
    },
    {
      "cell_type": "code",
      "metadata": {
        "id": "goHErgaKzKLi",
        "colab_type": "code",
        "colab": {}
      },
      "source": [
        "# Give reviews with Score>3 a postive rating and reviews with a score<3\n",
        "# a negative rating \n",
        "\n",
        "def partition(x):\n",
        "    if x<3:\n",
        "        return 'negative'\n",
        "    return 'positive'\n",
        "\n",
        "# changing the values with score less than 3 to positive and vice-versa\n",
        "actualScore = filtered_data['Score']\n",
        "positiveNegative = actualScore.map(partition)\n",
        "filtered_data['Score'] = positiveNegative"
      ],
      "execution_count": 0,
      "outputs": []
    },
    {
      "cell_type": "code",
      "metadata": {
        "id": "ygdP8izizMjL",
        "colab_type": "code",
        "outputId": "4f1e107c-3838-4ef4-81c1-09119dc1a195",
        "colab": {
          "base_uri": "https://localhost:8080/",
          "height": 34
        }
      },
      "source": [
        "filtered_data.shape "
      ],
      "execution_count": 40,
      "outputs": [
        {
          "output_type": "execute_result",
          "data": {
            "text/plain": [
              "(525814, 10)"
            ]
          },
          "metadata": {
            "tags": []
          },
          "execution_count": 40
        }
      ]
    },
    {
      "cell_type": "code",
      "metadata": {
        "id": "fQQdXa0pzOj-",
        "colab_type": "code",
        "outputId": "f1a48c9f-2d75-4c87-db2f-7d1c893fd391",
        "colab": {
          "base_uri": "https://localhost:8080/",
          "height": 279
        }
      },
      "source": [
        "filtered_data.head()"
      ],
      "execution_count": 41,
      "outputs": [
        {
          "output_type": "execute_result",
          "data": {
            "text/html": [
              "<div>\n",
              "<style scoped>\n",
              "    .dataframe tbody tr th:only-of-type {\n",
              "        vertical-align: middle;\n",
              "    }\n",
              "\n",
              "    .dataframe tbody tr th {\n",
              "        vertical-align: top;\n",
              "    }\n",
              "\n",
              "    .dataframe thead th {\n",
              "        text-align: right;\n",
              "    }\n",
              "</style>\n",
              "<table border=\"1\" class=\"dataframe\">\n",
              "  <thead>\n",
              "    <tr style=\"text-align: right;\">\n",
              "      <th></th>\n",
              "      <th>Id</th>\n",
              "      <th>ProductId</th>\n",
              "      <th>UserId</th>\n",
              "      <th>ProfileName</th>\n",
              "      <th>HelpfulnessNumerator</th>\n",
              "      <th>HelpfulnessDenominator</th>\n",
              "      <th>Score</th>\n",
              "      <th>Time</th>\n",
              "      <th>Summary</th>\n",
              "      <th>Text</th>\n",
              "    </tr>\n",
              "  </thead>\n",
              "  <tbody>\n",
              "    <tr>\n",
              "      <th>0</th>\n",
              "      <td>1</td>\n",
              "      <td>B001E4KFG0</td>\n",
              "      <td>A3SGXH7AUHU8GW</td>\n",
              "      <td>delmartian</td>\n",
              "      <td>1</td>\n",
              "      <td>1</td>\n",
              "      <td>positive</td>\n",
              "      <td>1303862400</td>\n",
              "      <td>Good Quality Dog Food</td>\n",
              "      <td>I have bought several of the Vitality canned d...</td>\n",
              "    </tr>\n",
              "    <tr>\n",
              "      <th>1</th>\n",
              "      <td>2</td>\n",
              "      <td>B00813GRG4</td>\n",
              "      <td>A1D87F6ZCVE5NK</td>\n",
              "      <td>dll pa</td>\n",
              "      <td>0</td>\n",
              "      <td>0</td>\n",
              "      <td>negative</td>\n",
              "      <td>1346976000</td>\n",
              "      <td>Not as Advertised</td>\n",
              "      <td>Product arrived labeled as Jumbo Salted Peanut...</td>\n",
              "    </tr>\n",
              "    <tr>\n",
              "      <th>2</th>\n",
              "      <td>3</td>\n",
              "      <td>B000LQOCH0</td>\n",
              "      <td>ABXLMWJIXXAIN</td>\n",
              "      <td>Natalia Corres \"Natalia Corres\"</td>\n",
              "      <td>1</td>\n",
              "      <td>1</td>\n",
              "      <td>positive</td>\n",
              "      <td>1219017600</td>\n",
              "      <td>\"Delight\" says it all</td>\n",
              "      <td>This is a confection that has been around a fe...</td>\n",
              "    </tr>\n",
              "    <tr>\n",
              "      <th>3</th>\n",
              "      <td>4</td>\n",
              "      <td>B000UA0QIQ</td>\n",
              "      <td>A395BORC6FGVXV</td>\n",
              "      <td>Karl</td>\n",
              "      <td>3</td>\n",
              "      <td>3</td>\n",
              "      <td>negative</td>\n",
              "      <td>1307923200</td>\n",
              "      <td>Cough Medicine</td>\n",
              "      <td>If you are looking for the secret ingredient i...</td>\n",
              "    </tr>\n",
              "    <tr>\n",
              "      <th>4</th>\n",
              "      <td>5</td>\n",
              "      <td>B006K2ZZ7K</td>\n",
              "      <td>A1UQRSCLF8GW1T</td>\n",
              "      <td>Michael D. Bigham \"M. Wassir\"</td>\n",
              "      <td>0</td>\n",
              "      <td>0</td>\n",
              "      <td>positive</td>\n",
              "      <td>1350777600</td>\n",
              "      <td>Great taffy</td>\n",
              "      <td>Great taffy at a great price.  There was a wid...</td>\n",
              "    </tr>\n",
              "  </tbody>\n",
              "</table>\n",
              "</div>"
            ],
            "text/plain": [
              "   Id  ...                                               Text\n",
              "0   1  ...  I have bought several of the Vitality canned d...\n",
              "1   2  ...  Product arrived labeled as Jumbo Salted Peanut...\n",
              "2   3  ...  This is a confection that has been around a fe...\n",
              "3   4  ...  If you are looking for the secret ingredient i...\n",
              "4   5  ...  Great taffy at a great price.  There was a wid...\n",
              "\n",
              "[5 rows x 10 columns]"
            ]
          },
          "metadata": {
            "tags": []
          },
          "execution_count": 41
        }
      ]
    },
    {
      "cell_type": "code",
      "metadata": {
        "id": "M56nfs9JzP4K",
        "colab_type": "code",
        "outputId": "2b5140f3-a24f-4b0b-d2db-aa6778db319d",
        "colab": {
          "base_uri": "https://localhost:8080/",
          "height": 302
        }
      },
      "source": [
        "filtered_data.info()"
      ],
      "execution_count": 42,
      "outputs": [
        {
          "output_type": "stream",
          "text": [
            "<class 'pandas.core.frame.DataFrame'>\n",
            "RangeIndex: 525814 entries, 0 to 525813\n",
            "Data columns (total 10 columns):\n",
            " #   Column                  Non-Null Count   Dtype \n",
            "---  ------                  --------------   ----- \n",
            " 0   Id                      525814 non-null  int64 \n",
            " 1   ProductId               525814 non-null  object\n",
            " 2   UserId                  525814 non-null  object\n",
            " 3   ProfileName             525814 non-null  object\n",
            " 4   HelpfulnessNumerator    525814 non-null  int64 \n",
            " 5   HelpfulnessDenominator  525814 non-null  int64 \n",
            " 6   Score                   525814 non-null  object\n",
            " 7   Time                    525814 non-null  int64 \n",
            " 8   Summary                 525814 non-null  object\n",
            " 9   Text                    525814 non-null  object\n",
            "dtypes: int64(4), object(6)\n",
            "memory usage: 40.1+ MB\n"
          ],
          "name": "stdout"
        }
      ]
    },
    {
      "cell_type": "code",
      "metadata": {
        "id": "vky3xwHDzW4u",
        "colab_type": "code",
        "outputId": "b780d072-d496-4690-f8d2-bfb60c4725ae",
        "colab": {
          "base_uri": "https://localhost:8080/",
          "height": 67
        }
      },
      "source": [
        "filtered_data.columns"
      ],
      "execution_count": 43,
      "outputs": [
        {
          "output_type": "execute_result",
          "data": {
            "text/plain": [
              "Index(['Id', 'ProductId', 'UserId', 'ProfileName', 'HelpfulnessNumerator',\n",
              "       'HelpfulnessDenominator', 'Score', 'Time', 'Summary', 'Text'],\n",
              "      dtype='object')"
            ]
          },
          "metadata": {
            "tags": []
          },
          "execution_count": 43
        }
      ]
    },
    {
      "cell_type": "markdown",
      "metadata": {
        "id": "ArQth1_Lzckz",
        "colab_type": "text"
      },
      "source": [
        "#  [Exploratory Data Analysis]"
      ]
    },
    {
      "cell_type": "markdown",
      "metadata": {
        "id": "pq1-Xyxyzf5c",
        "colab_type": "text"
      },
      "source": [
        "# Data Cleaning : Deduplication\n",
        "\n",
        "It is observed that the reviews data had many duplicate entries. Hence it is necesssary to remove the duplicates in order to get unbaised results for the analysis of the data"
      ]
    },
    {
      "cell_type": "code",
      "metadata": {
        "id": "xgQEXqVizZDH",
        "colab_type": "code",
        "outputId": "3b5f834d-facf-4472-dd53-36ccc1c9235a",
        "colab": {
          "base_uri": "https://localhost:8080/",
          "height": 570
        }
      },
      "source": [
        "# checking if there are duplicates in the data. For this we will check for\n",
        "# 'UserId', 'ProfileName', 'Time', 'Text'\n",
        "\n",
        "duplicateRowsDF = filtered_data[filtered_data.duplicated(['UserId', 'ProfileName', 'Time', 'Text'])]\n",
        "duplicateRowsDF"
      ],
      "execution_count": 44,
      "outputs": [
        {
          "output_type": "execute_result",
          "data": {
            "text/html": [
              "<div>\n",
              "<style scoped>\n",
              "    .dataframe tbody tr th:only-of-type {\n",
              "        vertical-align: middle;\n",
              "    }\n",
              "\n",
              "    .dataframe tbody tr th {\n",
              "        vertical-align: top;\n",
              "    }\n",
              "\n",
              "    .dataframe thead th {\n",
              "        text-align: right;\n",
              "    }\n",
              "</style>\n",
              "<table border=\"1\" class=\"dataframe\">\n",
              "  <thead>\n",
              "    <tr style=\"text-align: right;\">\n",
              "      <th></th>\n",
              "      <th>Id</th>\n",
              "      <th>ProductId</th>\n",
              "      <th>UserId</th>\n",
              "      <th>ProfileName</th>\n",
              "      <th>HelpfulnessNumerator</th>\n",
              "      <th>HelpfulnessDenominator</th>\n",
              "      <th>Score</th>\n",
              "      <th>Time</th>\n",
              "      <th>Summary</th>\n",
              "      <th>Text</th>\n",
              "    </tr>\n",
              "  </thead>\n",
              "  <tbody>\n",
              "    <tr>\n",
              "      <th>29</th>\n",
              "      <td>30</td>\n",
              "      <td>B0001PB9FY</td>\n",
              "      <td>A3HDKO7OW0QNK4</td>\n",
              "      <td>Canadian Fan</td>\n",
              "      <td>1</td>\n",
              "      <td>1</td>\n",
              "      <td>positive</td>\n",
              "      <td>1107820800</td>\n",
              "      <td>The Best Hot Sauce in the World</td>\n",
              "      <td>I don't know if it's the cactus or the tequila...</td>\n",
              "    </tr>\n",
              "    <tr>\n",
              "      <th>530</th>\n",
              "      <td>575</td>\n",
              "      <td>B000G6RYNE</td>\n",
              "      <td>A3PJZ8TU8FDQ1K</td>\n",
              "      <td>Jared Castle</td>\n",
              "      <td>2</td>\n",
              "      <td>2</td>\n",
              "      <td>positive</td>\n",
              "      <td>1231718400</td>\n",
              "      <td>One bite and you'll become a \"chippoisseur\"</td>\n",
              "      <td>I'm addicted to salty and tangy flavors, so wh...</td>\n",
              "    </tr>\n",
              "    <tr>\n",
              "      <th>2119</th>\n",
              "      <td>2310</td>\n",
              "      <td>B0001VWE0M</td>\n",
              "      <td>AQM74O8Z4FMS0</td>\n",
              "      <td>Sunshine</td>\n",
              "      <td>0</td>\n",
              "      <td>0</td>\n",
              "      <td>negative</td>\n",
              "      <td>1127606400</td>\n",
              "      <td>Below standard</td>\n",
              "      <td>Too much of the white pith on this orange peel...</td>\n",
              "    </tr>\n",
              "    <tr>\n",
              "      <th>2133</th>\n",
              "      <td>2324</td>\n",
              "      <td>B0001VWE0C</td>\n",
              "      <td>AQM74O8Z4FMS0</td>\n",
              "      <td>Sunshine</td>\n",
              "      <td>0</td>\n",
              "      <td>0</td>\n",
              "      <td>negative</td>\n",
              "      <td>1127606400</td>\n",
              "      <td>Below standard</td>\n",
              "      <td>Too much of the white pith on this orange peel...</td>\n",
              "    </tr>\n",
              "    <tr>\n",
              "      <th>2146</th>\n",
              "      <td>2337</td>\n",
              "      <td>B0001FQVCK</td>\n",
              "      <td>A5D06XJHDXK75</td>\n",
              "      <td>C. Po</td>\n",
              "      <td>1</td>\n",
              "      <td>1</td>\n",
              "      <td>positive</td>\n",
              "      <td>1190592000</td>\n",
              "      <td>Baci's are pure heaven - great gift, stocking ...</td>\n",
              "      <td>My family has been in love with Baci's ever si...</td>\n",
              "    </tr>\n",
              "    <tr>\n",
              "      <th>...</th>\n",
              "      <td>...</td>\n",
              "      <td>...</td>\n",
              "      <td>...</td>\n",
              "      <td>...</td>\n",
              "      <td>...</td>\n",
              "      <td>...</td>\n",
              "      <td>...</td>\n",
              "      <td>...</td>\n",
              "      <td>...</td>\n",
              "      <td>...</td>\n",
              "    </tr>\n",
              "    <tr>\n",
              "      <th>525770</th>\n",
              "      <td>568410</td>\n",
              "      <td>B0018CLWM4</td>\n",
              "      <td>A2PE0AGWV6OPL7</td>\n",
              "      <td>Dark Water Mermaid</td>\n",
              "      <td>3</td>\n",
              "      <td>3</td>\n",
              "      <td>positive</td>\n",
              "      <td>1309651200</td>\n",
              "      <td>Quality &amp; affordable food</td>\n",
              "      <td>I was very pleased with the ingredient quality...</td>\n",
              "    </tr>\n",
              "    <tr>\n",
              "      <th>525771</th>\n",
              "      <td>568411</td>\n",
              "      <td>B0018CLWM4</td>\n",
              "      <td>A88HLWDCU57WG</td>\n",
              "      <td>R28</td>\n",
              "      <td>2</td>\n",
              "      <td>2</td>\n",
              "      <td>positive</td>\n",
              "      <td>1332979200</td>\n",
              "      <td>litter box</td>\n",
              "      <td>My main reason for the five star review has to...</td>\n",
              "    </tr>\n",
              "    <tr>\n",
              "      <th>525772</th>\n",
              "      <td>568412</td>\n",
              "      <td>B0018CLWM4</td>\n",
              "      <td>AUX1HSY8FX55S</td>\n",
              "      <td>DAW</td>\n",
              "      <td>1</td>\n",
              "      <td>1</td>\n",
              "      <td>positive</td>\n",
              "      <td>1319500800</td>\n",
              "      <td>Happy Camper</td>\n",
              "      <td>I bought this to try on two registered Maine C...</td>\n",
              "    </tr>\n",
              "    <tr>\n",
              "      <th>525773</th>\n",
              "      <td>568413</td>\n",
              "      <td>B0018CLWM4</td>\n",
              "      <td>AVZ2OZ479Q9E8</td>\n",
              "      <td>Ai Ling Chow</td>\n",
              "      <td>0</td>\n",
              "      <td>0</td>\n",
              "      <td>positive</td>\n",
              "      <td>1336435200</td>\n",
              "      <td>Two Siberians like it!</td>\n",
              "      <td>When we brought home two 3-month-old purebred ...</td>\n",
              "    </tr>\n",
              "    <tr>\n",
              "      <th>525774</th>\n",
              "      <td>568414</td>\n",
              "      <td>B0018CLWM4</td>\n",
              "      <td>AI3Y26HLPYW4L</td>\n",
              "      <td>kimosabe</td>\n",
              "      <td>1</td>\n",
              "      <td>2</td>\n",
              "      <td>negative</td>\n",
              "      <td>1330041600</td>\n",
              "      <td>premium edge cat food</td>\n",
              "      <td>My cats don't like it. what else can I say to ...</td>\n",
              "    </tr>\n",
              "  </tbody>\n",
              "</table>\n",
              "<p>161641 rows × 10 columns</p>\n",
              "</div>"
            ],
            "text/plain": [
              "            Id  ...                                               Text\n",
              "29          30  ...  I don't know if it's the cactus or the tequila...\n",
              "530        575  ...  I'm addicted to salty and tangy flavors, so wh...\n",
              "2119      2310  ...  Too much of the white pith on this orange peel...\n",
              "2133      2324  ...  Too much of the white pith on this orange peel...\n",
              "2146      2337  ...  My family has been in love with Baci's ever si...\n",
              "...        ...  ...                                                ...\n",
              "525770  568410  ...  I was very pleased with the ingredient quality...\n",
              "525771  568411  ...  My main reason for the five star review has to...\n",
              "525772  568412  ...  I bought this to try on two registered Maine C...\n",
              "525773  568413  ...  When we brought home two 3-month-old purebred ...\n",
              "525774  568414  ...  My cats don't like it. what else can I say to ...\n",
              "\n",
              "[161641 rows x 10 columns]"
            ]
          },
          "metadata": {
            "tags": []
          },
          "execution_count": 44
        }
      ]
    },
    {
      "cell_type": "code",
      "metadata": {
        "colab_type": "code",
        "id": "6xhvIDx5ziX2",
        "outputId": "4c46ef90-54ac-4182-fefa-b2a668d52c59",
        "colab": {
          "base_uri": "https://localhost:8080/",
          "height": 233
        }
      },
      "source": [
        "# doing a sanity check if these UserId are really duplicates \n",
        "# Using the first UserId and querying for duplicates\n",
        "\n",
        "dup_disp = pd.read_sql_query(\"\"\"\n",
        "SELECT *\n",
        "FROM Reviews\n",
        "WHERE Score!=3 AND UserId='A3HDKO7OW0QNK4'\n",
        "ORDER BY ProductID\n",
        "\"\"\", con)\n",
        "\n",
        "dup_disp"
      ],
      "execution_count": 45,
      "outputs": [
        {
          "output_type": "execute_result",
          "data": {
            "text/html": [
              "<div>\n",
              "<style scoped>\n",
              "    .dataframe tbody tr th:only-of-type {\n",
              "        vertical-align: middle;\n",
              "    }\n",
              "\n",
              "    .dataframe tbody tr th {\n",
              "        vertical-align: top;\n",
              "    }\n",
              "\n",
              "    .dataframe thead th {\n",
              "        text-align: right;\n",
              "    }\n",
              "</style>\n",
              "<table border=\"1\" class=\"dataframe\">\n",
              "  <thead>\n",
              "    <tr style=\"text-align: right;\">\n",
              "      <th></th>\n",
              "      <th>Id</th>\n",
              "      <th>ProductId</th>\n",
              "      <th>UserId</th>\n",
              "      <th>ProfileName</th>\n",
              "      <th>HelpfulnessNumerator</th>\n",
              "      <th>HelpfulnessDenominator</th>\n",
              "      <th>Score</th>\n",
              "      <th>Time</th>\n",
              "      <th>Summary</th>\n",
              "      <th>Text</th>\n",
              "    </tr>\n",
              "  </thead>\n",
              "  <tbody>\n",
              "    <tr>\n",
              "      <th>0</th>\n",
              "      <td>506517</td>\n",
              "      <td>B0001PB9EA</td>\n",
              "      <td>A3HDKO7OW0QNK4</td>\n",
              "      <td>Canadian Fan</td>\n",
              "      <td>0</td>\n",
              "      <td>0</td>\n",
              "      <td>5</td>\n",
              "      <td>1107907200</td>\n",
              "      <td>Authentic Mexican Restaurant Taste</td>\n",
              "      <td>Just as with the Original Tequila Picante Gour...</td>\n",
              "    </tr>\n",
              "    <tr>\n",
              "      <th>1</th>\n",
              "      <td>195372</td>\n",
              "      <td>B0001PB9EK</td>\n",
              "      <td>A3HDKO7OW0QNK4</td>\n",
              "      <td>Canadian Fan</td>\n",
              "      <td>0</td>\n",
              "      <td>0</td>\n",
              "      <td>5</td>\n",
              "      <td>1107907200</td>\n",
              "      <td>Authentic Mexican Restaurant Taste</td>\n",
              "      <td>Just as with the Original Tequila Picante Gour...</td>\n",
              "    </tr>\n",
              "    <tr>\n",
              "      <th>2</th>\n",
              "      <td>11</td>\n",
              "      <td>B0001PB9FE</td>\n",
              "      <td>A3HDKO7OW0QNK4</td>\n",
              "      <td>Canadian Fan</td>\n",
              "      <td>1</td>\n",
              "      <td>1</td>\n",
              "      <td>5</td>\n",
              "      <td>1107820800</td>\n",
              "      <td>The Best Hot Sauce in the World</td>\n",
              "      <td>I don't know if it's the cactus or the tequila...</td>\n",
              "    </tr>\n",
              "    <tr>\n",
              "      <th>3</th>\n",
              "      <td>30</td>\n",
              "      <td>B0001PB9FY</td>\n",
              "      <td>A3HDKO7OW0QNK4</td>\n",
              "      <td>Canadian Fan</td>\n",
              "      <td>1</td>\n",
              "      <td>1</td>\n",
              "      <td>5</td>\n",
              "      <td>1107820800</td>\n",
              "      <td>The Best Hot Sauce in the World</td>\n",
              "      <td>I don't know if it's the cactus or the tequila...</td>\n",
              "    </tr>\n",
              "  </tbody>\n",
              "</table>\n",
              "</div>"
            ],
            "text/plain": [
              "       Id  ...                                               Text\n",
              "0  506517  ...  Just as with the Original Tequila Picante Gour...\n",
              "1  195372  ...  Just as with the Original Tequila Picante Gour...\n",
              "2      11  ...  I don't know if it's the cactus or the tequila...\n",
              "3      30  ...  I don't know if it's the cactus or the tequila...\n",
              "\n",
              "[4 rows x 10 columns]"
            ]
          },
          "metadata": {
            "tags": []
          },
          "execution_count": 45
        }
      ]
    },
    {
      "cell_type": "markdown",
      "metadata": {
        "id": "mCg_s4_bzqSr",
        "colab_type": "text"
      },
      "source": [
        "In the above result we can see something strange, the customer reviewed the product and the time stamp, summary and text is all the same. How is it possible? Is this an error? No.\n",
        "\n",
        "This is related to how amazon reviews works.If see the both the products (with different IDs but similiar timestamp and summary) then we will observe that both the products are product is same but the quality (flavour or some other feature differs). So the company has given authority to amazon to use the same review for the product variations if one of them is reviewed.\n",
        "\n",
        "\n",
        "But this 'Strangeness' is not good for our ML model as if I have to predict a rating on the same product variation then it will give it a positive if is positive and vice-versa which might not be the case in real life.\n",
        "\n",
        "Hence in order to reduce redundancy it was decided to eliminate the rows having same parameters"
      ]
    },
    {
      "cell_type": "markdown",
      "metadata": {
        "id": "quCW5FBBzvgD",
        "colab_type": "text"
      },
      "source": [
        "### Removing  the duplicates"
      ]
    },
    {
      "cell_type": "code",
      "metadata": {
        "colab_type": "code",
        "id": "0sSi_qHZzhzB",
        "colab": {}
      },
      "source": [
        "# sort the data according to the ProductId in ascending order\n",
        "sorted_data = filtered_data.sort_values('ProductId', axis = 0, ascending = True)"
      ],
      "execution_count": 0,
      "outputs": []
    },
    {
      "cell_type": "code",
      "metadata": {
        "id": "ZaqLhnZyzxcU",
        "colab_type": "code",
        "outputId": "681c3463-31bb-4d60-f5ee-fedf784b2fab",
        "colab": {
          "base_uri": "https://localhost:8080/",
          "height": 34
        }
      },
      "source": [
        "# dropping the duplicates (keeping the first value and dropping the rest)\n",
        "deduplicated_data = sorted_data.drop_duplicates(subset = {'UserId', 'ProfileName', 'Time', 'Text'},keep='first',\n",
        "                                                inplace = False)\n",
        " \n",
        "deduplicated_data.shape"
      ],
      "execution_count": 47,
      "outputs": [
        {
          "output_type": "execute_result",
          "data": {
            "text/plain": [
              "(364173, 10)"
            ]
          },
          "metadata": {
            "tags": []
          },
          "execution_count": 47
        }
      ]
    },
    {
      "cell_type": "code",
      "metadata": {
        "id": "q7bbRXswzy_F",
        "colab_type": "code",
        "outputId": "fa826a0f-f00f-44db-c322-4fb3936cb812",
        "colab": {
          "base_uri": "https://localhost:8080/",
          "height": 34
        }
      },
      "source": [
        "# finding how much data is left after removing duplicates\n",
        "\n",
        "(deduplicated_data.shape[0]/filtered_data.shape[0])*100.0 "
      ],
      "execution_count": 48,
      "outputs": [
        {
          "output_type": "execute_result",
          "data": {
            "text/plain": [
              "69.25890143662969"
            ]
          },
          "metadata": {
            "tags": []
          },
          "execution_count": 48
        }
      ]
    },
    {
      "cell_type": "code",
      "metadata": {
        "id": "5JTyV1MUz11C",
        "colab_type": "code",
        "outputId": "7704d13e-02d1-4fbb-cf63-40c610bf99d2",
        "colab": {
          "base_uri": "https://localhost:8080/",
          "height": 106
        }
      },
      "source": [
        "# Checking if there are rows where HelpfulnessNumerator is greater than HelpfullnessDenominator which\n",
        "# is not possible\n",
        "\n",
        "d=zip(deduplicated_data['HelpfulnessNumerator'],deduplicated_data['HelpfulnessDenominator'])\n",
        "\n",
        "pd.DataFrame(list(d),columns=['HelpfulnessNumerator','HelpfulnessDenominator']).query(\"HelpfulnessNumerator>HelpfulnessDenominator\")"
      ],
      "execution_count": 49,
      "outputs": [
        {
          "output_type": "execute_result",
          "data": {
            "text/html": [
              "<div>\n",
              "<style scoped>\n",
              "    .dataframe tbody tr th:only-of-type {\n",
              "        vertical-align: middle;\n",
              "    }\n",
              "\n",
              "    .dataframe tbody tr th {\n",
              "        vertical-align: top;\n",
              "    }\n",
              "\n",
              "    .dataframe thead th {\n",
              "        text-align: right;\n",
              "    }\n",
              "</style>\n",
              "<table border=\"1\" class=\"dataframe\">\n",
              "  <thead>\n",
              "    <tr style=\"text-align: right;\">\n",
              "      <th></th>\n",
              "      <th>HelpfulnessNumerator</th>\n",
              "      <th>HelpfulnessDenominator</th>\n",
              "    </tr>\n",
              "  </thead>\n",
              "  <tbody>\n",
              "    <tr>\n",
              "      <th>103780</th>\n",
              "      <td>3</td>\n",
              "      <td>1</td>\n",
              "    </tr>\n",
              "    <tr>\n",
              "      <th>187617</th>\n",
              "      <td>3</td>\n",
              "      <td>2</td>\n",
              "    </tr>\n",
              "  </tbody>\n",
              "</table>\n",
              "</div>"
            ],
            "text/plain": [
              "        HelpfulnessNumerator  HelpfulnessDenominator\n",
              "103780                     3                       1\n",
              "187617                     3                       2"
            ]
          },
          "metadata": {
            "tags": []
          },
          "execution_count": 49
        }
      ]
    },
    {
      "cell_type": "code",
      "metadata": {
        "id": "78dhGfSBz3AE",
        "colab_type": "code",
        "outputId": "8e4b051c-2410-41ae-c006-e58c37650002",
        "colab": {
          "base_uri": "https://localhost:8080/",
          "height": 140
        }
      },
      "source": [
        "# other way to do this using sql (this involves knowing the ids)\n",
        "\n",
        "display = pd.read_sql_query(\"\"\"\n",
        "SELECT *\n",
        "FROM Reviews \n",
        "WHERE Score!=3 AND Id=44737 OR Id=64422\n",
        "ORDER BY ProductId\n",
        "\"\"\", con)\n",
        "display"
      ],
      "execution_count": 50,
      "outputs": [
        {
          "output_type": "execute_result",
          "data": {
            "text/html": [
              "<div>\n",
              "<style scoped>\n",
              "    .dataframe tbody tr th:only-of-type {\n",
              "        vertical-align: middle;\n",
              "    }\n",
              "\n",
              "    .dataframe tbody tr th {\n",
              "        vertical-align: top;\n",
              "    }\n",
              "\n",
              "    .dataframe thead th {\n",
              "        text-align: right;\n",
              "    }\n",
              "</style>\n",
              "<table border=\"1\" class=\"dataframe\">\n",
              "  <thead>\n",
              "    <tr style=\"text-align: right;\">\n",
              "      <th></th>\n",
              "      <th>Id</th>\n",
              "      <th>ProductId</th>\n",
              "      <th>UserId</th>\n",
              "      <th>ProfileName</th>\n",
              "      <th>HelpfulnessNumerator</th>\n",
              "      <th>HelpfulnessDenominator</th>\n",
              "      <th>Score</th>\n",
              "      <th>Time</th>\n",
              "      <th>Summary</th>\n",
              "      <th>Text</th>\n",
              "    </tr>\n",
              "  </thead>\n",
              "  <tbody>\n",
              "    <tr>\n",
              "      <th>0</th>\n",
              "      <td>64422</td>\n",
              "      <td>B000MIDROQ</td>\n",
              "      <td>A161DK06JJMCYF</td>\n",
              "      <td>J. E. Stephens \"Jeanne\"</td>\n",
              "      <td>3</td>\n",
              "      <td>1</td>\n",
              "      <td>5</td>\n",
              "      <td>1224892800</td>\n",
              "      <td>Bought This for My Son at College</td>\n",
              "      <td>My son loves spaghetti so I didn't hesitate or...</td>\n",
              "    </tr>\n",
              "    <tr>\n",
              "      <th>1</th>\n",
              "      <td>44737</td>\n",
              "      <td>B001EQ55RW</td>\n",
              "      <td>A2V0I904FH7ABY</td>\n",
              "      <td>Ram</td>\n",
              "      <td>3</td>\n",
              "      <td>2</td>\n",
              "      <td>4</td>\n",
              "      <td>1212883200</td>\n",
              "      <td>Pure cocoa taste with crunchy almonds inside</td>\n",
              "      <td>It was almost a 'love at first bite' - the per...</td>\n",
              "    </tr>\n",
              "  </tbody>\n",
              "</table>\n",
              "</div>"
            ],
            "text/plain": [
              "      Id  ...                                               Text\n",
              "0  64422  ...  My son loves spaghetti so I didn't hesitate or...\n",
              "1  44737  ...  It was almost a 'love at first bite' - the per...\n",
              "\n",
              "[2 rows x 10 columns]"
            ]
          },
          "metadata": {
            "tags": []
          },
          "execution_count": 50
        }
      ]
    },
    {
      "cell_type": "code",
      "metadata": {
        "id": "_uGjcp05z4q8",
        "colab_type": "code",
        "colab": {}
      },
      "source": [
        "\n",
        "final_data = deduplicated_data[deduplicated_data.HelpfulnessNumerator<=deduplicated_data\n",
        "                              .HelpfulnessDenominator]"
      ],
      "execution_count": 0,
      "outputs": []
    },
    {
      "cell_type": "code",
      "metadata": {
        "id": "_8v_hu4Gz6J7",
        "colab_type": "code",
        "outputId": "a5b7ff55-5b63-4cd0-f5f4-ab068e106599",
        "colab": {
          "base_uri": "https://localhost:8080/",
          "height": 34
        }
      },
      "source": [
        "# earlier the rows were 364173 and not it is 2 less thus we have successfully \n",
        "# removed the incorrect data\n",
        "\n",
        "final_data.shape "
      ],
      "execution_count": 52,
      "outputs": [
        {
          "output_type": "execute_result",
          "data": {
            "text/plain": [
              "(364171, 10)"
            ]
          },
          "metadata": {
            "tags": []
          },
          "execution_count": 52
        }
      ]
    },
    {
      "cell_type": "code",
      "metadata": {
        "id": "ln-ag1WMHCFT",
        "colab_type": "code",
        "outputId": "9af89c31-c02a-4414-9166-3b10b906a132",
        "colab": {
          "base_uri": "https://localhost:8080/",
          "height": 34
        }
      },
      "source": [
        "final_data = final_data[final_data['ProductId'] != '2841233731']\n",
        "final_data = final_data[final_data['ProductId'] != '0006641040']\n",
        "final_data.shape"
      ],
      "execution_count": 53,
      "outputs": [
        {
          "output_type": "execute_result",
          "data": {
            "text/plain": [
              "(364136, 10)"
            ]
          },
          "metadata": {
            "tags": []
          },
          "execution_count": 53
        }
      ]
    },
    {
      "cell_type": "code",
      "metadata": {
        "id": "tKriclmqz7U4",
        "colab_type": "code",
        "outputId": "ae570453-de8d-4e59-b1d8-528e49075820",
        "colab": {
          "base_uri": "https://localhost:8080/",
          "height": 67
        }
      },
      "source": [
        "# How many positive and negative reviews do we have?\n",
        "\n",
        "final_data['Score'].value_counts()"
      ],
      "execution_count": 54,
      "outputs": [
        {
          "output_type": "execute_result",
          "data": {
            "text/plain": [
              "positive    307028\n",
              "negative     57108\n",
              "Name: Score, dtype: int64"
            ]
          },
          "metadata": {
            "tags": []
          },
          "execution_count": 54
        }
      ]
    },
    {
      "cell_type": "markdown",
      "metadata": {
        "id": "sf8V-yxJz_du",
        "colab_type": "text"
      },
      "source": [
        "# Text Preprocessing : Stemming, Stop-word removal and Lemmatization"
      ]
    },
    {
      "cell_type": "markdown",
      "metadata": {
        "id": "AWckB_zx1UFn",
        "colab_type": "text"
      },
      "source": [
        "Now that we have finished deduplication our data requires some preprocessing before we go on further with analysis and making the prediction model.\n",
        "\n",
        "Hence in the Preprocessing phase we do the following in the order below:-\n",
        "\n",
        "1. Begin by removing the html tags\n",
        "2. Remove any punctuations or limited set of special characters like , or . or # etc.\n",
        "3. Check if the word is made up of english letters and is not alpha-numeric\n",
        "4. Check to see if the length of the word is greater than 2 (as it was researched that there is no adjective in 2-letters)\n",
        "5. Convert the word to lowercase\n",
        "6. Remove Stopwords\n",
        "7. Finally Snowball Stemming the word (it was obsereved to be better than Porter Stemming)<br>\n",
        "\n",
        "After which we collect the words used to describe positive and negative reviews"
      ]
    },
    {
      "cell_type": "code",
      "metadata": {
        "id": "FhTohtFrz82o",
        "colab_type": "code",
        "outputId": "579463c0-22d0-410d-e40d-00d312fd75ff",
        "colab": {
          "base_uri": "https://localhost:8080/",
          "height": 171
        }
      },
      "source": [
        "# printing some random reviews to see what preprocessing is to be done\n",
        "\n",
        "sent_0 = final_data['Text'].values[0]\n",
        "print(sent_0)\n",
        "print(\"=\"*50)\n",
        "\n",
        "sent_1000 = final_data['Text'].values[1000]\n",
        "print(sent_1000)\n",
        "print(\"=\"*50)\n",
        "\n",
        "sent_1500 = final_data['Text'].values[1500]\n",
        "print(sent_1500)\n",
        "print(\"=\"*50)\n",
        "\n",
        "sent_4900 = final_data['Text'].values[4900]\n",
        "print(sent_4900)\n",
        "print(\"=\"*50)"
      ],
      "execution_count": 55,
      "outputs": [
        {
          "output_type": "stream",
          "text": [
            "This product by Archer Farms is the best drink mix ever. Just mix a flavored packet with your 16 oz. water bottle. Contains the all natural sweetner Stevia, real fruit flavoring and no food coloring. Just colored with fruit or vegetable colors. Pure and natural and tastes great. There are eight packets in a box and only contains 10 calories per packet. Thank you Archer Farms!\n",
            "==================================================\n",
            "This set has saved many a bottle of wine for us.  I don't want to be rushed to drink a whole bottle at a time, and this lets us enjoy every bit of it without being gluttonous.  Definitely worth it.\n",
            "==================================================\n",
            "This dog food is the best!! Excellent price. Free shipping, and above all high grade quality ingedients. No fillers, no by products, no wheat, no corn. I have a puppy that started out looking like a beagle puppy, 3.lbs 6 oz when I got him at 8 wks. He turned out to be just barely 4 wks old and is now 45 pounds and growing. I think he is actually a coon hound. He has itchy skin so I wanted to find a product he could eat and my 13 yr old wonder dog (we wonder what he is)could also eat. Canidae is the perfect answer. Since I have been using Canidae my puppy is far less itchy and I still am at the 3 parts Canidae to one part of his other food, which was Pedigree for puppies.  My older dog is less stiff in his joints and his coat is softer too.  I am looking forward to a long time relationship with Canidae. thanks\n",
            "==================================================\n",
            "These came exactly as pictured.  Very smooth pieces that interlock well with one another. Exactly like sweet tarts except more difficult to eat because they are so thick - so be careful when giving these to kids to eat.  These will be given as part of a favor bag.  I bought 4 lbs and realized I needed more so I'm back to buy an additional 2lbs.\n",
            "==================================================\n"
          ],
          "name": "stdout"
        }
      ]
    },
    {
      "cell_type": "code",
      "metadata": {
        "id": "ujtoX7oF0GJz",
        "colab_type": "code",
        "outputId": "54e73fa7-8117-4d08-b2cc-1bd274df0777",
        "colab": {
          "base_uri": "https://localhost:8080/",
          "height": 70
        }
      },
      "source": [
        "# finding sentences containing HTML tags\n",
        "import re\n",
        "\n",
        "count=0\n",
        "for word in final_data['Text'].values:\n",
        "    if len(re.findall('<.*?>',word)):\n",
        "        print(count)\n",
        "        print(word)\n",
        "        break\n",
        "    count+=1"
      ],
      "execution_count": 56,
      "outputs": [
        {
          "output_type": "stream",
          "text": [
            "9\n",
            "I wanted a treat that was accepted and well liked for my rescue animals.<br />This is the only treat that is healthy and loved by all 4 legged beings in my home!<br />It does not contain sugar or grains or silly vegetables which virtually all treats contain. Dogs, cats and ferrets are carnivores they are not cattle to eat grain or rabbits to eat vegetables, and WHYYYY do companies add sugar,beet pulp or corn syrup to carnivore foods? It is dangerous and can cause the death of an animal with diabetes.<br />It is pretty easy to break into smaller pieces for cats and kittens with weak jaws and its wonderful to use as an aid to gain the trust of an abused dog as it will not cause stomach upset when given in common sense amounts.<br />I like that it goes a long way as it costs alot to heal and maintain and train abused and rescued dogs.<br />NO minus to this product other then the price,I can not afford to use it as much as I would like.\n"
          ],
          "name": "stdout"
        }
      ]
    },
    {
      "cell_type": "code",
      "metadata": {
        "id": "SgktIT331ZI3",
        "colab_type": "code",
        "outputId": "b035c3b1-6359-4c2f-fb7c-a86a8dff8d09",
        "colab": {
          "base_uri": "https://localhost:8080/",
          "height": 121
        }
      },
      "source": [
        "import string\n",
        "from nltk.corpus import stopwords\n",
        "from nltk.stem import PorterStemmer\n",
        "from nltk.stem.wordnet import WordNetLemmatizer\n",
        "\n",
        "nltk.download('stopwords')\n",
        "\n",
        "stop = set(stopwords.words('english'))  #set of stopwords in english\n",
        "sno = nltk.stem.SnowballStemmer('english')  # creating instance of Snowball Stemmer\n",
        "\n",
        "# function to clean the word of any html-tags\n",
        "def cleaned_html(sentence):\n",
        "    \n",
        "    # compile search string to avoid cache lookup\n",
        "    cleanr = re.compile('<.*?>')\n",
        "    \n",
        "    # replace those occurences with blank spaces\n",
        "    cleaned_text = re.sub(cleanr, ' ', sentence)\n",
        "    return cleaned_text\n",
        "\n",
        "def clean_punc(sentence): \n",
        "    cleaned = re.sub(r'[?|!|\\'|\"|#]',r'',sentence)\n",
        "    cleaned = re.sub(r'[.|,|)|(|\\|/]',r' ',cleaned)\n",
        "    return  cleaned\n",
        "\n",
        "print(stop)\n",
        "print(\"*********************************************\")\n",
        "print(sno.stem(\"tasty\"))"
      ],
      "execution_count": 57,
      "outputs": [
        {
          "output_type": "stream",
          "text": [
            "[nltk_data] Downloading package stopwords to /root/nltk_data...\n",
            "[nltk_data]   Package stopwords is already up-to-date!\n",
            "{'very', 'she', 'our', 'whom', 'll', 'as', 'before', \"haven't\", \"couldn't\", 'won', 'd', \"hasn't\", 'in', 'than', 'did', 'such', \"mightn't\", 'against', 'mightn', 'doing', 'my', 'who', 'more', 'didn', 'myself', 'this', 'under', 'nor', 'couldn', 'do', 'why', 'yourself', \"she's\", 'because', 'so', 'o', 'ma', 'needn', 'but', 'off', \"needn't\", 'weren', 'himself', 'with', \"you'll\", 'some', 'down', 'themselves', 'while', 'by', 'you', 'am', 'been', 'these', 't', 'on', 'when', 'once', 'isn', \"didn't\", 'all', 'were', 'itself', 'which', 'out', 'be', 'mustn', 'few', \"isn't\", 'ours', 'about', 'and', 'then', 'have', 'for', 'their', 'being', 'there', \"wouldn't\", 'wouldn', 'yours', 'after', 'haven', \"weren't\", 'shouldn', \"shouldn't\", 'are', 'her', 'above', 're', 'how', 'shan', 'had', 'from', 'too', 'here', 'me', 'm', 'ain', 'of', 'i', 'can', \"wasn't\", 'a', 'again', 'his', 'the', 'to', 'over', 'wasn', 'hers', \"aren't\", 'not', \"mustn't\", 'it', 'herself', 'until', 'y', 'was', 'don', 'aren', 'him', \"it's\", 'just', 'does', 'further', 'both', 'where', 'below', 'they', \"that'll\", 'yourselves', \"don't\", 's', \"you'd\", 'that', 'should', 'has', 'or', 'most', 'doesn', 'up', 've', 'through', \"should've\", 'its', 'into', 'hadn', 'we', \"you're\", 'if', 'no', 'having', 'between', 'them', 'each', 'hasn', 'now', 'those', 'only', \"won't\", 'an', 'theirs', 'he', 'what', \"hadn't\", \"you've\", 'ourselves', 'during', \"doesn't\", 'is', 'at', 'own', 'your', 'same', 'any', 'other', \"shan't\", 'will'}\n",
            "*********************************************\n",
            "tasti\n"
          ],
          "name": "stdout"
        }
      ]
    },
    {
      "cell_type": "code",
      "metadata": {
        "id": "WXZpYzWRH9Tx",
        "colab_type": "code",
        "colab": {}
      },
      "source": [
        "# Code for implementing step by step checks mentioned in the pre-processing list above\n",
        "i=0\n",
        "str1=' '\n",
        "final_string=[]\n",
        "all_positive_words=[] # s # to store positive reviews\n",
        "all_negative_words=[]  # to store negative reviews\n",
        "s=''\n",
        "\n",
        "# for each review final text\n",
        "for sent in final_data['Text'].values:\n",
        "\n",
        "    filtered_sentence=[]\n",
        "\n",
        "    # remove HTML tags\n",
        "    sent=cleaned_html(sent) \n",
        "\n",
        "    # split the words\n",
        "    for w in sent.split():\n",
        "\n",
        "        # remove the punctuations\n",
        "        for cleaned_words in clean_punc(w).split():\n",
        "            \n",
        "            # check if the words are alphanumeric and more than two letters\n",
        "            if((cleaned_words.isalpha()) & (len(cleaned_words)>2)):    \n",
        "\n",
        "                # convert to lower case and if these words (those just filtered \n",
        "                # out in above if condn)  are not stop words\n",
        "                if(cleaned_words.lower() not in stop):\n",
        "\n",
        "                     # convert to lower then do stemming and encode them to utf-8 format\n",
        "                    s=(sno.stem(cleaned_words.lower())).encode('utf8')\n",
        "\n",
        "                    # append the words to filtered sentence\n",
        "                    filtered_sentence.append(s)\n",
        "\n",
        "                    # if for the words, corresponding score is positive then append those to\n",
        "                    # positive list else append them to negative list\n",
        "                    if (final_data['Score'].values)[i] == 'positive': \n",
        "                        all_positive_words.append(s) #list of all words used to describe positive reviews\n",
        "                    if(final_data['Score'].values)[i] == 'negative':\n",
        "                        all_negative_words.append(s) #list of all words used to describe negative reviews reviews\n",
        "                else:\n",
        "                    continue\n",
        "            else:\n",
        "                continue \n",
        "    \n",
        "    # final string of cleaned words\n",
        "    str1 = b\" \".join(filtered_sentence) \n",
        "    \n",
        "    \n",
        "    final_string.append(str1)\n",
        "    i+=1"
      ],
      "execution_count": 0,
      "outputs": []
    },
    {
      "cell_type": "code",
      "metadata": {
        "id": "rmg1ISuN1jlw",
        "colab_type": "code",
        "colab": {}
      },
      "source": [
        "final_data['CleanedText']=final_string  \n",
        "final_data['CleanedText']=final_data['CleanedText'].str.decode(\"utf-8\")"
      ],
      "execution_count": 0,
      "outputs": []
    },
    {
      "cell_type": "code",
      "metadata": {
        "id": "tmXUTURX4OeM",
        "colab_type": "code",
        "outputId": "d46a3523-75a2-416b-b3a4-dcc995eaf14f",
        "colab": {
          "base_uri": "https://localhost:8080/",
          "height": 203
        }
      },
      "source": [
        "final_data.head(3)"
      ],
      "execution_count": 60,
      "outputs": [
        {
          "output_type": "execute_result",
          "data": {
            "text/html": [
              "<div>\n",
              "<style scoped>\n",
              "    .dataframe tbody tr th:only-of-type {\n",
              "        vertical-align: middle;\n",
              "    }\n",
              "\n",
              "    .dataframe tbody tr th {\n",
              "        vertical-align: top;\n",
              "    }\n",
              "\n",
              "    .dataframe thead th {\n",
              "        text-align: right;\n",
              "    }\n",
              "</style>\n",
              "<table border=\"1\" class=\"dataframe\">\n",
              "  <thead>\n",
              "    <tr style=\"text-align: right;\">\n",
              "      <th></th>\n",
              "      <th>Id</th>\n",
              "      <th>ProductId</th>\n",
              "      <th>UserId</th>\n",
              "      <th>ProfileName</th>\n",
              "      <th>HelpfulnessNumerator</th>\n",
              "      <th>HelpfulnessDenominator</th>\n",
              "      <th>Score</th>\n",
              "      <th>Time</th>\n",
              "      <th>Summary</th>\n",
              "      <th>Text</th>\n",
              "      <th>CleanedText</th>\n",
              "    </tr>\n",
              "  </thead>\n",
              "  <tbody>\n",
              "    <tr>\n",
              "      <th>476617</th>\n",
              "      <td>515426</td>\n",
              "      <td>141278509X</td>\n",
              "      <td>AB1A5EGHHVA9M</td>\n",
              "      <td>CHelmic</td>\n",
              "      <td>1</td>\n",
              "      <td>1</td>\n",
              "      <td>positive</td>\n",
              "      <td>1332547200</td>\n",
              "      <td>The best drink mix</td>\n",
              "      <td>This product by Archer Farms is the best drink...</td>\n",
              "      <td>product archer farm best drink mix ever mix fl...</td>\n",
              "    </tr>\n",
              "    <tr>\n",
              "      <th>22621</th>\n",
              "      <td>24751</td>\n",
              "      <td>2734888454</td>\n",
              "      <td>A1C298ITT645B6</td>\n",
              "      <td>Hugh G. Pritchard</td>\n",
              "      <td>0</td>\n",
              "      <td>0</td>\n",
              "      <td>positive</td>\n",
              "      <td>1195948800</td>\n",
              "      <td>Dog Lover Delites</td>\n",
              "      <td>Our dogs just love them.  I saw them in a pet ...</td>\n",
              "      <td>dog love saw pet store tag attach regard made ...</td>\n",
              "    </tr>\n",
              "    <tr>\n",
              "      <th>22620</th>\n",
              "      <td>24750</td>\n",
              "      <td>2734888454</td>\n",
              "      <td>A13ISQV0U9GZIC</td>\n",
              "      <td>Sandikaye</td>\n",
              "      <td>1</td>\n",
              "      <td>1</td>\n",
              "      <td>negative</td>\n",
              "      <td>1192060800</td>\n",
              "      <td>made in china</td>\n",
              "      <td>My dogs loves this chicken but its a product f...</td>\n",
              "      <td>dog love chicken product china wont buy anymor...</td>\n",
              "    </tr>\n",
              "  </tbody>\n",
              "</table>\n",
              "</div>"
            ],
            "text/plain": [
              "            Id  ...                                        CleanedText\n",
              "476617  515426  ...  product archer farm best drink mix ever mix fl...\n",
              "22621    24751  ...  dog love saw pet store tag attach regard made ...\n",
              "22620    24750  ...  dog love chicken product china wont buy anymor...\n",
              "\n",
              "[3 rows x 11 columns]"
            ]
          },
          "metadata": {
            "tags": []
          },
          "execution_count": 60
        }
      ]
    },
    {
      "cell_type": "code",
      "metadata": {
        "id": "fEssRvao4P-P",
        "colab_type": "code",
        "colab": {}
      },
      "source": [
        "conn = sqlite3.connect('final_data.sqlite')\n",
        "c = conn.cursor()\n",
        "conn.text_factory = str\n",
        "final_data.to_sql('Reviews', conn, schema= None, if_exists = 'replace')"
      ],
      "execution_count": 0,
      "outputs": []
    },
    {
      "cell_type": "code",
      "metadata": {
        "id": "3JHVafrJ4SmK",
        "colab_type": "code",
        "colab": {}
      },
      "source": [
        "con = sqlite3.connect('/content/final_data.sqlite')"
      ],
      "execution_count": 0,
      "outputs": []
    },
    {
      "cell_type": "code",
      "metadata": {
        "id": "01PIfj6q4WFX",
        "colab_type": "code",
        "colab": {}
      },
      "source": [
        "final_data = pd.read_sql_query(\"\"\"\n",
        "SELECT *\n",
        "FROM Reviews\n",
        "\"\"\",con)"
      ],
      "execution_count": 0,
      "outputs": []
    },
    {
      "cell_type": "code",
      "metadata": {
        "id": "Y_fDFNFv4Xs2",
        "colab_type": "code",
        "colab": {}
      },
      "source": [
        "# we will only take 50k points as the data is very large and it will consume \n",
        "# lot of resources\n",
        "\n",
        "final_data = final_data[:50000]"
      ],
      "execution_count": 0,
      "outputs": []
    },
    {
      "cell_type": "code",
      "metadata": {
        "id": "9Y6qglU04do4",
        "colab_type": "code",
        "outputId": "88e4bd18-7d33-44af-abcc-7d66acf9a789",
        "colab": {
          "base_uri": "https://localhost:8080/",
          "height": 34
        }
      },
      "source": [
        "final_data.shape"
      ],
      "execution_count": 65,
      "outputs": [
        {
          "output_type": "execute_result",
          "data": {
            "text/plain": [
              "(50000, 12)"
            ]
          },
          "metadata": {
            "tags": []
          },
          "execution_count": 65
        }
      ]
    },
    {
      "cell_type": "markdown",
      "metadata": {
        "id": "63KGplRI4uYD",
        "colab_type": "text"
      },
      "source": [
        "## Splitting the data"
      ]
    },
    {
      "cell_type": "code",
      "metadata": {
        "id": "PAB8eyh34gOB",
        "colab_type": "code",
        "outputId": "5e50fc02-eca1-4005-90b6-84ca20e6e94b",
        "colab": {
          "base_uri": "https://localhost:8080/",
          "height": 254
        }
      },
      "source": [
        "# Sorting the data as we want to use Time Series based Splitting because the reviews\n",
        "# and products change with time and random splitting can create problems for future points\n",
        "\n",
        "final_data.sort_values('Time', inplace=True)\n",
        "final_data.head(3)"
      ],
      "execution_count": 66,
      "outputs": [
        {
          "output_type": "execute_result",
          "data": {
            "text/html": [
              "<div>\n",
              "<style scoped>\n",
              "    .dataframe tbody tr th:only-of-type {\n",
              "        vertical-align: middle;\n",
              "    }\n",
              "\n",
              "    .dataframe tbody tr th {\n",
              "        vertical-align: top;\n",
              "    }\n",
              "\n",
              "    .dataframe thead th {\n",
              "        text-align: right;\n",
              "    }\n",
              "</style>\n",
              "<table border=\"1\" class=\"dataframe\">\n",
              "  <thead>\n",
              "    <tr style=\"text-align: right;\">\n",
              "      <th></th>\n",
              "      <th>index</th>\n",
              "      <th>Id</th>\n",
              "      <th>ProductId</th>\n",
              "      <th>UserId</th>\n",
              "      <th>ProfileName</th>\n",
              "      <th>HelpfulnessNumerator</th>\n",
              "      <th>HelpfulnessDenominator</th>\n",
              "      <th>Score</th>\n",
              "      <th>Time</th>\n",
              "      <th>Summary</th>\n",
              "      <th>Text</th>\n",
              "      <th>CleanedText</th>\n",
              "    </tr>\n",
              "  </thead>\n",
              "  <tbody>\n",
              "    <tr>\n",
              "      <th>389</th>\n",
              "      <td>417839</td>\n",
              "      <td>451856</td>\n",
              "      <td>B00004CXX9</td>\n",
              "      <td>AIUWLEQ1ADEG5</td>\n",
              "      <td>Elizabeth Medina</td>\n",
              "      <td>0</td>\n",
              "      <td>0</td>\n",
              "      <td>positive</td>\n",
              "      <td>944092800</td>\n",
              "      <td>Entertainingl Funny!</td>\n",
              "      <td>Beetlejuice is a well written movie ..... ever...</td>\n",
              "      <td>beetlejuic well written movi everyth excel act...</td>\n",
              "    </tr>\n",
              "    <tr>\n",
              "      <th>295</th>\n",
              "      <td>346055</td>\n",
              "      <td>374359</td>\n",
              "      <td>B00004CI84</td>\n",
              "      <td>A344SMIA5JECGM</td>\n",
              "      <td>Vincent P. Ross</td>\n",
              "      <td>1</td>\n",
              "      <td>2</td>\n",
              "      <td>positive</td>\n",
              "      <td>944438400</td>\n",
              "      <td>A modern day fairy tale</td>\n",
              "      <td>A twist of rumplestiskin captured on film, sta...</td>\n",
              "      <td>twist rumplestiskin captur film star michael k...</td>\n",
              "    </tr>\n",
              "    <tr>\n",
              "      <th>388</th>\n",
              "      <td>417838</td>\n",
              "      <td>451855</td>\n",
              "      <td>B00004CXX9</td>\n",
              "      <td>AJH6LUC1UT1ON</td>\n",
              "      <td>The Phantom of the Opera</td>\n",
              "      <td>0</td>\n",
              "      <td>0</td>\n",
              "      <td>positive</td>\n",
              "      <td>946857600</td>\n",
              "      <td>FANTASTIC!</td>\n",
              "      <td>Beetlejuice is an excellent and funny movie. K...</td>\n",
              "      <td>beetlejuic excel funni movi keaton hilari wack...</td>\n",
              "    </tr>\n",
              "  </tbody>\n",
              "</table>\n",
              "</div>"
            ],
            "text/plain": [
              "      index  ...                                        CleanedText\n",
              "389  417839  ...  beetlejuic well written movi everyth excel act...\n",
              "295  346055  ...  twist rumplestiskin captur film star michael k...\n",
              "388  417838  ...  beetlejuic excel funni movi keaton hilari wack...\n",
              "\n",
              "[3 rows x 12 columns]"
            ]
          },
          "metadata": {
            "tags": []
          },
          "execution_count": 66
        }
      ]
    },
    {
      "cell_type": "code",
      "metadata": {
        "id": "A6RCcEid5H8G",
        "colab_type": "code",
        "outputId": "3c74b21c-2ab2-42b4-d3d1-11c4f041ed30",
        "colab": {
          "base_uri": "https://localhost:8080/",
          "height": 67
        }
      },
      "source": [
        "final_data['Score'].value_counts()"
      ],
      "execution_count": 67,
      "outputs": [
        {
          "output_type": "execute_result",
          "data": {
            "text/plain": [
              "positive    42540\n",
              "negative     7460\n",
              "Name: Score, dtype: int64"
            ]
          },
          "metadata": {
            "tags": []
          },
          "execution_count": 67
        }
      ]
    },
    {
      "cell_type": "code",
      "metadata": {
        "id": "ygAbux3c5hHn",
        "colab_type": "code",
        "colab": {}
      },
      "source": [
        "# Splitting the data into test and train\n",
        "\n",
        "from sklearn.model_selection import train_test_split\n",
        "\n",
        "X = final_data['CleanedText'].values\n",
        "Y = final_data['Score'].values\n",
        "\n",
        "X_train,X_test,Y_train,Y_test = train_test_split(X,Y,test_size = 0.3, random_state = 0)"
      ],
      "execution_count": 0,
      "outputs": []
    },
    {
      "cell_type": "markdown",
      "metadata": {
        "id": "TlGzMolb5YQL",
        "colab_type": "text"
      },
      "source": [
        "# Applying NLP Models\n"
      ]
    },
    {
      "cell_type": "markdown",
      "metadata": {
        "id": "9Gvmpb9L61wv",
        "colab_type": "text"
      },
      "source": [
        "## **Bag of Words (BoW)**"
      ]
    },
    {
      "cell_type": "code",
      "metadata": {
        "id": "a4eajMZ45Rbe",
        "colab_type": "code",
        "outputId": "4698b741-b491-4dbc-986d-603b11c6d682",
        "colab": {
          "base_uri": "https://localhost:8080/",
          "height": 84
        }
      },
      "source": [
        "from sklearn.feature_extraction.text import CountVectorizer\n",
        "from sklearn.preprocessing import normalize\n",
        "\n",
        "# converting text into unigram vectors\n",
        "count_vect = CountVectorizer(min_df = 50)\n",
        "X_train_vector = count_vect.fit_transform(X_train)\n",
        "X_test_vector = count_vect.transform(X_test)\n",
        "\n",
        "X_train_vector = normalize(X_train_vector)\n",
        "X_test_vector = normalize(X_test_vector)\n",
        "\n",
        "print(type(X_train_vector))\n",
        "print(\"the shape of out text BOW vectorizer : \",X_train_vector.get_shape())\n",
        "print(\"the number of unique words :\", X_train_vector.get_shape()[1])\n",
        "\n",
        "print(X_test_vector.shape)"
      ],
      "execution_count": 69,
      "outputs": [
        {
          "output_type": "stream",
          "text": [
            "<class 'scipy.sparse.csr.csr_matrix'>\n",
            "the shape of out text BOW vectorizer :  (35000, 2353)\n",
            "the number of unique words : 2353\n",
            "(15000, 2353)\n"
          ],
          "name": "stdout"
        }
      ]
    },
    {
      "cell_type": "markdown",
      "metadata": {
        "id": "Jhl-viFoN107",
        "colab_type": "text"
      },
      "source": [
        "### K fold Cross Validation "
      ]
    },
    {
      "cell_type": "code",
      "metadata": {
        "id": "PCzMEWGD7y9e",
        "colab_type": "code",
        "outputId": "b3202a69-2eba-4670-bc50-43ac019be125",
        "colab": {
          "base_uri": "https://localhost:8080/",
          "height": 185
        }
      },
      "source": [
        "# listing down all the splits\n",
        "\n",
        "from sklearn.model_selection import TimeSeriesSplit\n",
        "tscv = TimeSeriesSplit(n_splits = 10)\n",
        "for train,cv in tscv.split(X_train):\n",
        "  print(X_train_vector[train].shape, X_train_vector[cv].shape)"
      ],
      "execution_count": 0,
      "outputs": [
        {
          "output_type": "stream",
          "text": [
            "(3190, 2353) (3181, 2353)\n",
            "(6371, 2353) (3181, 2353)\n",
            "(9552, 2353) (3181, 2353)\n",
            "(12733, 2353) (3181, 2353)\n",
            "(15914, 2353) (3181, 2353)\n",
            "(19095, 2353) (3181, 2353)\n",
            "(22276, 2353) (3181, 2353)\n",
            "(25457, 2353) (3181, 2353)\n",
            "(28638, 2353) (3181, 2353)\n",
            "(31819, 2353) (3181, 2353)\n"
          ],
          "name": "stdout"
        }
      ]
    },
    {
      "cell_type": "markdown",
      "metadata": {
        "id": "2ErVGMWxO2Pv",
        "colab_type": "text"
      },
      "source": [
        "### Brute Force Implementation using normal splitting"
      ]
    },
    {
      "cell_type": "code",
      "metadata": {
        "id": "HU9k7Qh9S-9g",
        "colab_type": "code",
        "outputId": "ccb9f485-d610-43f7-f723-f0cd8ba54016",
        "colab": {
          "base_uri": "https://localhost:8080/",
          "height": 34
        }
      },
      "source": [
        "from sklearn.neighbors import KNeighborsClassifier\n",
        "from sklearn.model_selection import cross_val_score\n",
        "\n",
        "# creating a list of K's for performing KNN\n",
        "my_list = list(range(0,30))\n",
        "\n",
        "# filtering out only the odd K values\n",
        "neighbors = list(filter(lambda x: x % 2 != 0, my_list))\n",
        "\n",
        "# list to hold the cv scores\n",
        "cv_scores = []\n",
        "\n",
        "# perform 10-fold cross validation with default weights\n",
        "for k in neighbors:\n",
        "  Knn = KNeighborsClassifier(n_neighbors = k, algorithm = 'brute')\n",
        "  scores = cross_val_score(Knn, X_train_vector, Y_train, cv=10, scoring='accuracy', n_jobs = -1)\n",
        "  cv_scores.append(scores.mean())\n",
        "\n",
        "# finding the optimal k\n",
        "optimal_k = neighbors[cv_scores.index(max(cv_scores))]\n",
        "print(\"The optimal K value is with default weight parameter: \", optimal_k)"
      ],
      "execution_count": 0,
      "outputs": [
        {
          "output_type": "stream",
          "text": [
            "The optimal K value is with default weight parameter:  11\n"
          ],
          "name": "stdout"
        }
      ]
    },
    {
      "cell_type": "code",
      "metadata": {
        "id": "JKMV6Ywca5RU",
        "colab_type": "code",
        "outputId": "a2863db0-bf9c-4d3d-dc3b-85f6c656004f",
        "colab": {
          "base_uri": "https://localhost:8080/",
          "height": 329
        }
      },
      "source": [
        "# plotting accuracy vs K\n",
        "plt.plot(neighbors, cv_scores)\n",
        "plt.xlabel(\"Number of Neighbors K\")\n",
        "plt.ylabel(\"Accuracy\")\n",
        "plt.title(\"Accuracy vs K Plot for normal \")\n",
        "plt.grid()\n",
        "plt.show()\n",
        "\n",
        "print(\"Accuracy scores for each K value is : \", np.round(cv_scores, 3))"
      ],
      "execution_count": 0,
      "outputs": [
        {
          "output_type": "display_data",
          "data": {
            "image/png": "[encoded data removed]",
            "text/plain": [
              "<Figure size 432x288 with 1 Axes>"
            ]
          },
          "metadata": {
            "tags": [],
            "needs_background": "light"
          }
        },
        {
          "output_type": "stream",
          "text": [
            "Accuracy scores for each K value is :  [0.841 0.854 0.858 0.862 0.862 0.863 0.863 0.863 0.861 0.86  0.861 0.86\n",
            " 0.86  0.859 0.859]\n"
          ],
          "name": "stdout"
        }
      ]
    },
    {
      "cell_type": "markdown",
      "metadata": {
        "id": "nVUdBLLk6nOw",
        "colab_type": "text"
      },
      "source": [
        "### Brute Force using Time Based"
      ]
    },
    {
      "cell_type": "code",
      "metadata": {
        "id": "UI5fBQYo3XAC",
        "colab_type": "code",
        "outputId": "3b8be391-4f3b-4445-ff63-03e51a6f2b69",
        "colab": {
          "base_uri": "https://localhost:8080/",
          "height": 34
        }
      },
      "source": [
        "# Time based splits\n",
        "tscv = TimeSeriesSplit(n_splits = 10)\n",
        "\n",
        "# creating a list of K's for performing KNN\n",
        "my_list = list(range(0,30))\n",
        "\n",
        "# filtering out only the odd K values\n",
        "neighbors = list(filter(lambda x: x % 2 != 0, my_list))\n",
        "\n",
        "# list to hold the cv scores\n",
        "cv_scores = []\n",
        "\n",
        "# perform 10-fold cross validation with default weights\n",
        "for k in neighbors:\n",
        "  Knn = KNeighborsClassifier(n_neighbors = k, algorithm = 'brute')\n",
        "  scores = cross_val_score(Knn, X_train_vector, Y_train, cv=tscv, scoring='accuracy', n_jobs = -1)\n",
        "  cv_scores.append(scores.mean())\n",
        "\n",
        "# finding the optimal k\n",
        "time_optimal_k = neighbors[cv_scores.index(max(cv_scores))]\n",
        "print(\"The optimal K value is with default weight parameter: \", time_optimal_k)"
      ],
      "execution_count": 0,
      "outputs": [
        {
          "output_type": "stream",
          "text": [
            "The optimal K value is with default weight parameter:  7\n"
          ],
          "name": "stdout"
        }
      ]
    },
    {
      "cell_type": "code",
      "metadata": {
        "id": "0ATv43kA8Gan",
        "colab_type": "code",
        "outputId": "929d73ac-73ed-4949-ccff-dcf3957a3883",
        "colab": {
          "base_uri": "https://localhost:8080/",
          "height": 329
        }
      },
      "source": [
        "# plotting accuracy vs K for time based split\n",
        "plt.plot(neighbors, cv_scores)\n",
        "plt.xlabel(\"Number of Neighbors K\")\n",
        "plt.ylabel(\"Accuracy\")\n",
        "plt.title(\"Accuracy vs K Plot for normal \")\n",
        "plt.grid()\n",
        "plt.show()\n",
        "\n",
        "print(\"Accuracy scores for each K value is : \", np.round(cv_scores, 3))"
      ],
      "execution_count": 0,
      "outputs": [
        {
          "output_type": "display_data",
          "data": {
            "image/png": "[encoded data removed]",
            "text/plain": [
              "<Figure size 432x288 with 1 Axes>"
            ]
          },
          "metadata": {
            "tags": [],
            "needs_background": "light"
          }
        },
        {
          "output_type": "stream",
          "text": [
            "Accuracy scores for each K value is :  [0.84  0.852 0.857 0.859 0.858 0.858 0.858 0.858 0.857 0.857 0.857 0.856\n",
            " 0.856 0.856 0.855]\n"
          ],
          "name": "stdout"
        }
      ]
    },
    {
      "cell_type": "code",
      "metadata": {
        "id": "Yd75gQarlge6",
        "colab_type": "code",
        "outputId": "bd03bffb-dab3-4cc9-a424-4ecdaadaedad",
        "colab": {
          "base_uri": "https://localhost:8080/",
          "height": 34
        }
      },
      "source": [
        "# Finding the accuracy of KNN with optimal K (Normal split)\n",
        "\n",
        "from sklearn.metrics import accuracy_score\n",
        "\n",
        "# create object of classifier\n",
        "knn_optimal = KNeighborsClassifier(n_neighbors = optimal_k, algorithm = 'brute', \n",
        "                                   n_jobs = -1)\n",
        "\n",
        "# fit the model\n",
        "knn_optimal.fit(X_train_vector,Y_train)\n",
        "\n",
        "# predict on test vector\n",
        "y_pred = knn_optimal.predict(X_test_vector)\n",
        "\n",
        "# evaluate accuracy score\n",
        "accuracy = accuracy_score(Y_test, y_pred)*100\n",
        "print(f\"The accuracy on test set using KNN for optimal K = {optimal_k} is {np.round(accuracy, 3)}%\")"
      ],
      "execution_count": 0,
      "outputs": [
        {
          "output_type": "stream",
          "text": [
            "The accuracy on test set using KNN for optimal K = 11 is 86.273%\n"
          ],
          "name": "stdout"
        }
      ]
    },
    {
      "cell_type": "markdown",
      "metadata": {
        "id": "oil7dGr49WUD",
        "colab_type": "text"
      },
      "source": [
        "### Confusion Matrix for BoW Brute"
      ]
    },
    {
      "cell_type": "code",
      "metadata": {
        "id": "CObP9bQL15IQ",
        "colab_type": "code",
        "outputId": "4d013f86-137b-4439-9ab1-2499f16ef110",
        "colab": {
          "base_uri": "https://localhost:8080/",
          "height": 458
        }
      },
      "source": [
        "from sklearn.metrics import confusion_matrix\n",
        "\n",
        "# for creating confusion matrix heatmap\n",
        "conf_mat = pd.DataFrame(confusion_matrix(Y_test, y_pred), \n",
        "                        index = [\"negative\", \n",
        "                                \"positive\"], \n",
        "                        columns= [\"negative\", \"positive\"])\n",
        "fig = plt.figure(figsize=(10,7))\n",
        "sns.heatmap(conf_mat, annot=True, annot_kws={\"size\": 16}, fmt='g')\n",
        "plt.title(\"Confusion Matrix\")\n",
        "plt.xlabel(\"Predicted Label\")\n",
        "plt.ylabel(\"True Label\")\n",
        "plt.show()"
      ],
      "execution_count": 0,
      "outputs": [
        {
          "output_type": "display_data",
          "data": {
            "image/png": "[encoded data removed]",
            "text/plain": [
              "<Figure size 720x504 with 2 Axes>"
            ]
          },
          "metadata": {
            "tags": [],
            "needs_background": "light"
          }
        }
      ]
    },
    {
      "cell_type": "code",
      "metadata": {
        "id": "5aSBHzuo-y70",
        "colab_type": "code",
        "outputId": "cea32a6c-67fe-4bdd-c012-721ab3980df8",
        "colab": {
          "base_uri": "https://localhost:8080/",
          "height": 67
        }
      },
      "source": [
        "# More Metrics \n",
        "\n",
        "from sklearn.metrics import precision_score, recall_score, f1_score\n",
        "\n",
        "# precision \n",
        "precision = precision_score(Y_test, y_pred, pos_label = 'positive')\n",
        "print(f\"The accuracy on test set using KNN for optimal K = {optimal_k} is {np.round(precision, 3)*100}%\")\n",
        "\n",
        "\n",
        "# recall\n",
        "recall = recall_score(Y_test, y_pred, pos_label = 'positive')\n",
        "print(f\"The accuracy on test set using KNN for optimal K = {optimal_k} is {np.round(recall, 3)*100}%\")\n",
        "\n",
        "\n",
        "# f1 score\n",
        "f1 = f1_score(Y_test, y_pred, pos_label='positive', average = 'weighted')\n",
        "print(f\"The accuracy on test set using KNN for optimal K = {optimal_k} is {np.round(f1, 3)*100}%\")"
      ],
      "execution_count": 0,
      "outputs": [
        {
          "output_type": "stream",
          "text": [
            "The accuracy on test set using KNN for optimal K = 11 is 86.6%\n",
            "The accuracy on test set using KNN for optimal K = 11 is 99.2%\n",
            "The accuracy on test set using KNN for optimal K = 11 is 82.0%\n"
          ],
          "name": "stdout"
        }
      ]
    },
    {
      "cell_type": "code",
      "metadata": {
        "id": "Wu0itphLH9wr",
        "colab_type": "code",
        "outputId": "839de7b6-7413-4437-fdaf-af5d169d0cc0",
        "colab": {
          "base_uri": "https://localhost:8080/",
          "height": 312
        }
      },
      "source": [
        "# plotting the precision and recall curve\n",
        "\n",
        "from sklearn.metrics import precision_recall_curve\n",
        "from sklearn.metrics import plot_precision_recall_curve\n",
        "\n",
        "disp = plot_precision_recall_curve(knn_optimal, X_test_vector, Y_test)\n",
        "disp.ax_.set_title('2-class Precision-Recall curve: '\n",
        "                   'P={0:0.2f}'.format(precision))"
      ],
      "execution_count": 0,
      "outputs": [
        {
          "output_type": "execute_result",
          "data": {
            "text/plain": [
              "Text(0.5, 1.0, '2-class Precision-Recall curve: P=0.87')"
            ]
          },
          "metadata": {
            "tags": []
          },
          "execution_count": 43
        },
        {
          "output_type": "display_data",
          "data": {
            "image/png": "[encoded data removed]",
            "text/plain": [
              "<Figure size 432x288 with 1 Axes>"
            ]
          },
          "metadata": {
            "tags": [],
            "needs_background": "light"
          }
        }
      ]
    },
    {
      "cell_type": "code",
      "metadata": {
        "id": "BH9G6m_ErLYw",
        "colab_type": "code",
        "outputId": "5363f8ef-43a0-4d7a-eecf-8589bb3efa93",
        "colab": {
          "base_uri": "https://localhost:8080/",
          "height": 34
        }
      },
      "source": [
        "# Calculating auc_roc score\n",
        "\n",
        "from sklearn.metrics import roc_curve, auc\n",
        "\n",
        "# binarizing the classes as roc_curve function won't work on string\n",
        "new_Y_test = np.where(Y_test == 'positive', 1, 0)\n",
        "new_Y_pred = np.where(y_pred == 'positive', 1, 0)\n",
        "\n",
        "# returns false positive rate, True positive rate and thresholds\n",
        "fpr, tpr, thresholds = roc_curve(new_Y_test, new_Y_pred, pos_label=1)\n",
        "\n",
        "# calculate auc\n",
        "auc_roc = auc(fpr, tpr)\n",
        "\n",
        "auc_roc"
      ],
      "execution_count": 0,
      "outputs": [
        {
          "output_type": "execute_result",
          "data": {
            "text/plain": [
              "0.5645744728709801"
            ]
          },
          "metadata": {
            "tags": []
          },
          "execution_count": 93
        }
      ]
    },
    {
      "cell_type": "code",
      "metadata": {
        "id": "2qdrWWfoxeZz",
        "colab_type": "code",
        "outputId": "54f38bd8-0a47-4c00-bbc3-6a3bd95a5adc",
        "colab": {
          "base_uri": "https://localhost:8080/",
          "height": 295
        }
      },
      "source": [
        "# plotting the ROC graph\n",
        "\n",
        "plt.figure()\n",
        "\n",
        "plt.plot(fpr, tpr, color='darkorange', lw=lw, \n",
        "         label='Average ROC curve (area = {0:0.3f})'.format(auc_roc))\n",
        "plt.plot([0, 1], [0, 1], color='black', lw=lw, linestyle='--', \n",
        "         label= 'Average ROC curve (area = 0.500)')\n",
        "plt.xlim([0.0, 1.0])\n",
        "plt.ylim([0.0, 1.05])\n",
        "plt.xlabel('False Positive Rate')\n",
        "plt.ylabel('True Positive Rate')\n",
        "plt.title('Receiver operating characteristic')\n",
        "plt.legend(loc=\"lower right\")\n",
        "plt.show()"
      ],
      "execution_count": 0,
      "outputs": [
        {
          "output_type": "display_data",
          "data": {
            "image/png": "[encoded data removed]",
            "text/plain": [
              "<Figure size 432x288 with 1 Axes>"
            ]
          },
          "metadata": {
            "tags": [],
            "needs_background": "light"
          }
        }
      ]
    },
    {
      "cell_type": "markdown",
      "metadata": {
        "id": "pv5q7HWhpMom",
        "colab_type": "text"
      },
      "source": [
        "### KD Tree Implementation"
      ]
    },
    {
      "cell_type": "code",
      "metadata": {
        "id": "gNIrYHWi7onu",
        "colab_type": "code",
        "colab": {
          "base_uri": "https://localhost:8080/",
          "height": 34
        },
        "outputId": "8b50c999-2e16-4cf0-953d-412b5b6504ae"
      },
      "source": [
        "from sklearn.decomposition import TruncatedSVD\n",
        "from sklearn.neighbors import KNeighborsClassifier\n",
        "from sklearn.model_selection import cross_val_score\n",
        "\n",
        "svd = TruncatedSVD(n_components = 100)\n",
        "X_train_vector_dense = svd.fit_transform(X_train_vector)\n",
        "X_test_vector_dense = svd.transform(X_test_vector)\n",
        "\n",
        "# creating a list of K's for performing KNN\n",
        "my_list = list(range(0,50))\n",
        "\n",
        "# filtering out only the odd K values\n",
        "neighbors = list(filter(lambda x: x % 2 != 0, my_list))\n",
        "\n",
        "# list to hold the cv scores\n",
        "cv_scores = []\n",
        "\n",
        "# perform 3-fold cross validation with default weights\n",
        "for k in neighbors:\n",
        "  Knn = KNeighborsClassifier(n_neighbors = k, algorithm = 'kd_tree')\n",
        "  scores = cross_val_score(Knn, X_train_vector_dense, Y_train, cv = 3, scoring='accuracy', n_jobs = -1)\n",
        "  cv_scores.append(scores.mean())\n",
        "\n",
        "# finding the optimal k\n",
        "optimal_k = neighbors[cv_scores.index(max(cv_scores))]\n",
        "print(\"The optimal K value is with default weight parameter: \", optimal_k)"
      ],
      "execution_count": 78,
      "outputs": [
        {
          "output_type": "stream",
          "text": [
            "The optimal K value is with default weight parameter:  49\n"
          ],
          "name": "stdout"
        }
      ]
    },
    {
      "cell_type": "code",
      "metadata": {
        "id": "Pnsol44h-KqC",
        "colab_type": "code",
        "colab": {
          "base_uri": "https://localhost:8080/",
          "height": 364
        },
        "outputId": "3b43b7f9-b1a6-4283-ec86-e4439a90fac2"
      },
      "source": [
        "plt.plot(neighbors, cv_scores)\n",
        "plt.xlabel('Number of Neighbors K')\n",
        "plt.ylabel('Accuracy')\n",
        "plt.title('Accuracy VS K Plot',size=16)\n",
        "plt.grid()\n",
        "plt.show()\n",
        "\n",
        "print(\"\\n Accuracy for each k value is : \", np.round(cv_scores,3))"
      ],
      "execution_count": 79,
      "outputs": [
        {
          "output_type": "display_data",
          "data": {
            "image/png": "[encoded data removed]",
            "text/plain": [
              "<Figure size 432x288 with 1 Axes>"
            ]
          },
          "metadata": {
            "tags": [],
            "needs_background": "light"
          }
        },
        {
          "output_type": "stream",
          "text": [
            "\n",
            " Accuracy for each k value is :  [0.761 0.803 0.824 0.836 0.841 0.845 0.847 0.849 0.85  0.851 0.851 0.854\n",
            " 0.854 0.855 0.855 0.856 0.857 0.857 0.857 0.858 0.857 0.858 0.857 0.858\n",
            " 0.858]\n"
          ],
          "name": "stdout"
        }
      ]
    },
    {
      "cell_type": "code",
      "metadata": {
        "id": "PWk8ISrOJjjo",
        "colab_type": "code",
        "colab": {
          "base_uri": "https://localhost:8080/",
          "height": 34
        },
        "outputId": "985b4290-d50c-4fa8-b220-ab531cd3b00f"
      },
      "source": [
        " # Finding the accuracy of KNN with optimal K (Normal split)\n",
        "\n",
        "from sklearn.metrics import accuracy_score\n",
        "\n",
        "# create an instance of the model with optimal k\n",
        "knn_optimal = KNeighborsClassifier(n_neighbors = 49, algorithm ='kd_tree', n_jobs = -1)\n",
        "\n",
        "# fitting the model\n",
        "knn_optimal.fit(X_train_vector_dense, Y_train)\n",
        "\n",
        "# predict the scores\n",
        "y_pred = knn_optimal.predict(X_test_vector_dense)\n",
        "\n",
        "# evaluate accuracy score\n",
        "accuracy = accuracy_score(Y_test, y_pred)*100\n",
        "print(f\"The accuracy on test set using KNN for optimal K = {optimal_k} is {np.round(accuracy, 3)}%\")"
      ],
      "execution_count": 81,
      "outputs": [
        {
          "output_type": "stream",
          "text": [
            "The accuracy on test set using KNN for optimal K = 49 is 85.54%\n"
          ],
          "name": "stdout"
        }
      ]
    },
    {
      "cell_type": "code",
      "metadata": {
        "id": "C_zI6Ni8gFEu",
        "colab_type": "code",
        "colab": {
          "base_uri": "https://localhost:8080/",
          "height": 34
        },
        "outputId": "aa2d7528-4a70-4769-d077-65b05f8bce31"
      },
      "source": [
        "knn_optimal = KNeighborsClassifier(n_neighbors = 39, algorithm ='kd_tree', n_jobs = -1)\n",
        "\n",
        "# fitting the model\n",
        "knn_optimal.fit(X_train_vector_dense, Y_train)\n",
        "\n",
        "# predict the scores\n",
        "y_pred = knn_optimal.predict(X_test_vector_dense)\n",
        "\n",
        "# evaluate accuracy score\n",
        "accuracy = accuracy_score(Y_test, y_pred)*100\n",
        "print(f\"The accuracy on test set using KNN for optimal K = 39 is {np.round(accuracy, 3)}%\")"
      ],
      "execution_count": 82,
      "outputs": [
        {
          "output_type": "stream",
          "text": [
            "The accuracy on test set using KNN for optimal K = 39 is 85.587%\n"
          ],
          "name": "stdout"
        }
      ]
    },
    {
      "cell_type": "markdown",
      "metadata": {
        "id": "3GCCtIqMmotr",
        "colab_type": "text"
      },
      "source": [
        "### Confusion Matrix for BoW KD Tree"
      ]
    },
    {
      "cell_type": "code",
      "metadata": {
        "id": "vHRfTIQZhjNZ",
        "colab_type": "code",
        "colab": {
          "base_uri": "https://localhost:8080/",
          "height": 458
        },
        "outputId": "e60633c1-c837-4456-bef5-ddbf6b6681f1"
      },
      "source": [
        "# for creating confusion matrix heatmap\n",
        "conf_mat = pd.DataFrame(confusion_matrix(Y_test, y_pred), \n",
        "                        index = [\"negative\", \n",
        "                                \"positive\"], \n",
        "                        columns= [\"negative\", \"positive\"])\n",
        "fig = plt.figure(figsize=(10,7))\n",
        "sns.heatmap(conf_mat, annot=True, annot_kws={\"size\": 16}, fmt='g')\n",
        "plt.title(\"Confusion Matrix\")\n",
        "plt.xlabel(\"Predicted Label\")\n",
        "plt.ylabel(\"True Label\")\n",
        "plt.show()"
      ],
      "execution_count": 83,
      "outputs": [
        {
          "output_type": "display_data",
          "data": {
            "image/png": "[encoded data removed]",
            "text/plain": [
              "<Figure size 720x504 with 2 Axes>"
            ]
          },
          "metadata": {
            "tags": [],
            "needs_background": "light"
          }
        }
      ]
    },
    {
      "cell_type": "code",
      "metadata": {
        "id": "OeAltcZkm4LC",
        "colab_type": "code",
        "colab": {
          "base_uri": "https://localhost:8080/",
          "height": 67
        },
        "outputId": "a711e1ac-1ca0-48ef-db14-e68ed94852ac"
      },
      "source": [
        "# More metrics\n",
        "\n",
        "# precision \n",
        "precision = precision_score(Y_test, y_pred, pos_label = 'positive')\n",
        "print(f\"The accuracy on test set using KNN for optimal K = {optimal_k} is {np.round(precision, 3)*100}%\")\n",
        "\n",
        "\n",
        "# recall\n",
        "recall = recall_score(Y_test, y_pred, pos_label = 'positive')\n",
        "print(f\"The accuracy on test set using KNN for optimal K = {optimal_k} is {np.round(recall, 3)*100}%\")\n",
        "\n",
        "\n",
        "# f1 score\n",
        "f1 = f1_score(Y_test, y_pred, pos_label='positive', average = 'weighted')\n",
        "print(f\"The accuracy on test set using KNN for optimal K = {optimal_k} is {np.round(f1, 3)*100}%\")"
      ],
      "execution_count": 85,
      "outputs": [
        {
          "output_type": "stream",
          "text": [
            "The accuracy on test set using KNN for optimal K = 49 is 86.7%\n",
            "The accuracy on test set using KNN for optimal K = 49 is 98.1%\n",
            "The accuracy on test set using KNN for optimal K = 49 is 81.8%\n"
          ],
          "name": "stdout"
        }
      ]
    },
    {
      "cell_type": "code",
      "metadata": {
        "id": "_uZ-N2ajnUKa",
        "colab_type": "code",
        "colab": {
          "base_uri": "https://localhost:8080/",
          "height": 34
        },
        "outputId": "fe4e60f2-6e89-4ab4-99ca-3494cecb939c"
      },
      "source": [
        "# Calculating auc_roc score\n",
        "\n",
        "from sklearn.metrics import roc_curve, auc\n",
        "\n",
        "# binarizing the classes as roc_curve function won't work on string\n",
        "new_Y_test = np.where(Y_test == 'positive', 1, 0)\n",
        "new_Y_pred = np.where(y_pred == 'positive', 1, 0)\n",
        "\n",
        "# returns false positive rate, True positive rate and thresholds\n",
        "fpr, tpr, thresholds = roc_curve(new_Y_test, new_Y_pred, pos_label=1)\n",
        "\n",
        "# calculate auc\n",
        "auc_roc = auc(fpr, tpr)\n",
        "\n",
        "auc_roc"
      ],
      "execution_count": 86,
      "outputs": [
        {
          "output_type": "execute_result",
          "data": {
            "text/plain": [
              "0.5681303660228881"
            ]
          },
          "metadata": {
            "tags": []
          },
          "execution_count": 86
        }
      ]
    },
    {
      "cell_type": "code",
      "metadata": {
        "id": "zuqWOCF-npPq",
        "colab_type": "code",
        "colab": {
          "base_uri": "https://localhost:8080/",
          "height": 295
        },
        "outputId": "a20cf5eb-2cd6-4530-b1e3-a5a29d0f2ccd"
      },
      "source": [
        "# plotting the ROC graph\n",
        "\n",
        "plt.figure()\n",
        "\n",
        "lw = 2\n",
        "\n",
        "plt.plot(fpr, tpr, color='darkorange', lw=lw, \n",
        "         label='Average ROC curve (area = {0:0.3f})'.format(auc_roc))\n",
        "plt.plot([0, 1], [0, 1], color='black', lw=lw, linestyle='--', \n",
        "         label= 'Average ROC curve (area = 0.500)')\n",
        "plt.xlim([0.0, 1.0])\n",
        "plt.ylim([0.0, 1.0])\n",
        "plt.xlabel('False Positive Rate')\n",
        "plt.ylabel('True Positive Rate')\n",
        "plt.title('Receiver operating characteristic')\n",
        "plt.legend(loc=\"lower right\")\n",
        "plt.show()"
      ],
      "execution_count": 89,
      "outputs": [
        {
          "output_type": "display_data",
          "data": {
            "image/png": "[encoded data removed]",
            "text/plain": [
              "<Figure size 432x288 with 1 Axes>"
            ]
          },
          "metadata": {
            "tags": [],
            "needs_background": "light"
          }
        }
      ]
    },
    {
      "cell_type": "markdown",
      "metadata": {
        "id": "YHdV-2wYoFjr",
        "colab_type": "text"
      },
      "source": [
        "# Conclusion\n",
        "\n",
        "**Brute Force Algorithm:** \n",
        "\n",
        "*   Optimal K : 11\n",
        "*   Train Accuracy : 86.30%\n",
        "*   Test Accuracy : 86.273%\n",
        "*   Precision : 86.6%\n",
        "*   Recall : 99.2%\n",
        "*   f1-score : 82.0%\n",
        "*   AUC score : 0.564\n",
        "\n",
        "**KD Tree Algorithm:**\n",
        "\n",
        "*   Optimal K : 49\n",
        "*   Train Accuracy : 85.8%\n",
        "*   Test Accuracy : 85.587%\n",
        "*   Precision : 86.7%\n",
        "*   Recall : 98.1%\n",
        "*   f1-score : 81.8%\n",
        "*   AUC score : 0.568\n"
      ]
    }
  ]
}